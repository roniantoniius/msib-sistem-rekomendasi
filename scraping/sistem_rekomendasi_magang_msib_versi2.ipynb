{
 "cells": [
  {
   "cell_type": "markdown",
   "id": "a7f59a86",
   "metadata": {},
   "source": [
    "# Recommendation System for Kampus Merdeka MSIB: Magang (2)\n",
    "## with Content Based Filtering (CBF)"
   ]
  },
  {
   "cell_type": "code",
   "execution_count": 1,
   "id": "68fd50b0",
   "metadata": {},
   "outputs": [],
   "source": [
    "import   random\n",
    "import   pickle\n",
    "import   warnings\n",
    "warnings.filterwarnings(action='ignore')\n",
    "import   nltk"
   ]
  },
  {
   "cell_type": "code",
   "execution_count": 4,
   "id": "a6547999",
   "metadata": {},
   "outputs": [],
   "source": [
    "# !pip install sastrawi"
   ]
  },
  {
   "cell_type": "code",
   "execution_count": 2,
   "id": "24e95395",
   "metadata": {},
   "outputs": [],
   "source": [
    "from pyforest                        import *\n",
    "from sklearn.metrics                 import precision_score, recall_score, f1_score\n",
    "from nltk.stem.porter                import PorterStemmer\n",
    "from sklearn.metrics.pairwise        import cosine_similarity, linear_kernel\n",
    "from sklearn.feature_extraction.text import TfidfVectorizer\n",
    "from Sastrawi.Stemmer.StemmerFactory import StemmerFactory"
   ]
  },
  {
   "cell_type": "code",
   "execution_count": 7,
   "id": "ec76067a",
   "metadata": {},
   "outputs": [
    {
     "data": {
      "text/html": [
       "<div>\n",
       "<style scoped>\n",
       "    .dataframe tbody tr th:only-of-type {\n",
       "        vertical-align: middle;\n",
       "    }\n",
       "\n",
       "    .dataframe tbody tr th {\n",
       "        vertical-align: top;\n",
       "    }\n",
       "\n",
       "    .dataframe thead th {\n",
       "        text-align: right;\n",
       "    }\n",
       "</style>\n",
       "<table border=\"1\" class=\"dataframe\">\n",
       "  <thead>\n",
       "    <tr style=\"text-align: right;\">\n",
       "      <th></th>\n",
       "      <th>id_lowongan</th>\n",
       "      <th>durasi</th>\n",
       "      <th>mitra</th>\n",
       "      <th>brand_mitra</th>\n",
       "      <th>logo</th>\n",
       "      <th>nama_lowongan</th>\n",
       "      <th>detail_nama</th>\n",
       "      <th>persyaratan</th>\n",
       "      <th>nama_aktifitas</th>\n",
       "      <th>deskripsi</th>\n",
       "      <th>detail_deskripsi</th>\n",
       "      <th>lokasi</th>\n",
       "      <th>pelaksanaan</th>\n",
       "      <th>sertifikasi</th>\n",
       "    </tr>\n",
       "  </thead>\n",
       "  <tbody>\n",
       "    <tr>\n",
       "      <th>0</th>\n",
       "      <td>60636725-0494-11ef-9e17-0a54edb93563</td>\n",
       "      <td>4</td>\n",
       "      <td>Dinas Lingkungan Hidup dan Kehutanan Daerah Is...</td>\n",
       "      <td>DLHK DIY</td>\n",
       "      <td>https://storage.googleapis.com/kampusmerdeka_k...</td>\n",
       "      <td>Full-stack Developer</td>\n",
       "      <td>Information Technology Systems</td>\n",
       "      <td>Jurusan: Teknologi Informasi atau jurusan lain...</td>\n",
       "      <td>Information Technology Systems</td>\n",
       "      <td>Magang Information Technology Systems di DLHK ...</td>\n",
       "      <td>Pelaksanaan magang di DLHK DIY memiliki bebera...</td>\n",
       "      <td>Kota Yogyakarta</td>\n",
       "      <td>OFFLINE</td>\n",
       "      <td>True</td>\n",
       "    </tr>\n",
       "    <tr>\n",
       "      <th>1</th>\n",
       "      <td>1b162247-048d-11ef-bb03-ceeddaa1b367</td>\n",
       "      <td>4</td>\n",
       "      <td>Dinas Lingkungan Hidup dan Kehutanan Daerah Is...</td>\n",
       "      <td>DLHK DIY</td>\n",
       "      <td>https://storage.googleapis.com/kampusmerdeka_k...</td>\n",
       "      <td>Pengelola Arsip</td>\n",
       "      <td>Layanan Pengelolaan Kearsipan</td>\n",
       "      <td>Persyaratan pendaftar program adalah:\\n1.\\tMah...</td>\n",
       "      <td>Layanan Pengelolaan Kearsipan</td>\n",
       "      <td>Magang Layanan Pengelolaan Kearsipan di DLHK D...</td>\n",
       "      <td>Pelaksanaan magang di DLHK DIY memiliki bebera...</td>\n",
       "      <td>Kota Yogyakarta</td>\n",
       "      <td>OFFLINE</td>\n",
       "      <td>True</td>\n",
       "    </tr>\n",
       "    <tr>\n",
       "      <th>2</th>\n",
       "      <td>190c81c5-048a-11ef-9e17-0a54edb93563</td>\n",
       "      <td>4</td>\n",
       "      <td>Dinas Lingkungan Hidup dan Kehutanan Daerah Is...</td>\n",
       "      <td>DLHK DIY</td>\n",
       "      <td>https://storage.googleapis.com/kampusmerdeka_k...</td>\n",
       "      <td>Layanan Publik</td>\n",
       "      <td>Public Relations Services Management-Subbagian...</td>\n",
       "      <td>Persyaratan pendaftar program adalah\\n1. Mahas...</td>\n",
       "      <td>Public Relations Services Management-Subbagian...</td>\n",
       "      <td>Magang Pengelolaan Layanan Kehumasan-Subbagian...</td>\n",
       "      <td>Pelaksanaan magang di DLHK DIY memiliki bebera...</td>\n",
       "      <td>Kota Yogyakarta</td>\n",
       "      <td>OFFLINE</td>\n",
       "      <td>True</td>\n",
       "    </tr>\n",
       "    <tr>\n",
       "      <th>3</th>\n",
       "      <td>90665e71-0490-11ef-bb7f-6ac06bc5928b</td>\n",
       "      <td>4</td>\n",
       "      <td>Dinas Lingkungan Hidup dan Kehutanan Daerah Is...</td>\n",
       "      <td>DLHK DIY</td>\n",
       "      <td>https://storage.googleapis.com/kampusmerdeka_k...</td>\n",
       "      <td>Staf Manajemen</td>\n",
       "      <td>Licensing And Management Administration- Balai...</td>\n",
       "      <td>Persyaratan pendaftar program adalah\\n1. Mahas...</td>\n",
       "      <td>Licensing And Management Administration- Balai...</td>\n",
       "      <td>Magang Licensing and Management Administration...</td>\n",
       "      <td>Pelaksanaan magang di DLHK DIY memiliki bebera...</td>\n",
       "      <td>Kota Yogyakarta</td>\n",
       "      <td>OFFLINE</td>\n",
       "      <td>True</td>\n",
       "    </tr>\n",
       "    <tr>\n",
       "      <th>4</th>\n",
       "      <td>f2b8c752-04a0-11ef-8394-36f764739585</td>\n",
       "      <td>4</td>\n",
       "      <td>Dinas Lingkungan Hidup dan Kehutanan Daerah Is...</td>\n",
       "      <td>DLHK DIY</td>\n",
       "      <td>https://storage.googleapis.com/kampusmerdeka_k...</td>\n",
       "      <td>Library Quality Analysis Staff and Integrated ...</td>\n",
       "      <td>Learning Management Improvement Of Public Serv...</td>\n",
       "      <td>Persyaratan pendaftar program adalah\\n1. Mahas...</td>\n",
       "      <td>Learning Management Improvement Of Public Serv...</td>\n",
       "      <td>DLHK DIY telah menginisiasi program \"Optimalis...</td>\n",
       "      <td>Pelaksanaan magang di DLHK DIY memiliki bebera...</td>\n",
       "      <td>Kota Yogyakarta</td>\n",
       "      <td>OFFLINE</td>\n",
       "      <td>True</td>\n",
       "    </tr>\n",
       "    <tr>\n",
       "      <th>...</th>\n",
       "      <td>...</td>\n",
       "      <td>...</td>\n",
       "      <td>...</td>\n",
       "      <td>...</td>\n",
       "      <td>...</td>\n",
       "      <td>...</td>\n",
       "      <td>...</td>\n",
       "      <td>...</td>\n",
       "      <td>...</td>\n",
       "      <td>...</td>\n",
       "      <td>...</td>\n",
       "      <td>...</td>\n",
       "      <td>...</td>\n",
       "      <td>...</td>\n",
       "    </tr>\n",
       "    <tr>\n",
       "      <th>7411</th>\n",
       "      <td>039c521f-4ac2-46a0-b53b-33d487fee509</td>\n",
       "      <td>4</td>\n",
       "      <td>PT SALON KITA INDONESIA</td>\n",
       "      <td>SALONKITA.ID</td>\n",
       "      <td>NaN</td>\n",
       "      <td>NaN</td>\n",
       "      <td>NaN</td>\n",
       "      <td>NaN</td>\n",
       "      <td>NaN</td>\n",
       "      <td>NaN</td>\n",
       "      <td>NaN</td>\n",
       "      <td>NaN</td>\n",
       "      <td>NaN</td>\n",
       "      <td>NaN</td>\n",
       "    </tr>\n",
       "    <tr>\n",
       "      <th>7412</th>\n",
       "      <td>e3e2c034-0365-44b4-badb-c33a22fb33b7</td>\n",
       "      <td>3</td>\n",
       "      <td>PT Modular Kuliner Indonesia</td>\n",
       "      <td>Hangry Indonesia</td>\n",
       "      <td>https://storage.googleapis.com/kampusmerdeka_k...</td>\n",
       "      <td>NaN</td>\n",
       "      <td>NaN</td>\n",
       "      <td>NaN</td>\n",
       "      <td>NaN</td>\n",
       "      <td>NaN</td>\n",
       "      <td>NaN</td>\n",
       "      <td>NaN</td>\n",
       "      <td>NaN</td>\n",
       "      <td>NaN</td>\n",
       "    </tr>\n",
       "    <tr>\n",
       "      <th>7413</th>\n",
       "      <td>45bf7d76-36a6-4496-b920-b2cfab9da4e3</td>\n",
       "      <td>4</td>\n",
       "      <td>PT SALON KITA INDONESIA</td>\n",
       "      <td>SALONKITA.ID</td>\n",
       "      <td>NaN</td>\n",
       "      <td>NaN</td>\n",
       "      <td>NaN</td>\n",
       "      <td>NaN</td>\n",
       "      <td>NaN</td>\n",
       "      <td>NaN</td>\n",
       "      <td>NaN</td>\n",
       "      <td>NaN</td>\n",
       "      <td>NaN</td>\n",
       "      <td>NaN</td>\n",
       "    </tr>\n",
       "    <tr>\n",
       "      <th>7414</th>\n",
       "      <td>3049aa1b-9420-4e01-a1dc-36982bd0c054</td>\n",
       "      <td>6</td>\n",
       "      <td>PT Modular Kuliner Indonesia</td>\n",
       "      <td>Hangry Indonesia</td>\n",
       "      <td>https://storage.googleapis.com/kampusmerdeka_k...</td>\n",
       "      <td>NaN</td>\n",
       "      <td>NaN</td>\n",
       "      <td>NaN</td>\n",
       "      <td>NaN</td>\n",
       "      <td>NaN</td>\n",
       "      <td>NaN</td>\n",
       "      <td>NaN</td>\n",
       "      <td>NaN</td>\n",
       "      <td>NaN</td>\n",
       "    </tr>\n",
       "    <tr>\n",
       "      <th>7415</th>\n",
       "      <td>da0fa84e-d0eb-4419-8f4f-0480eb476b1b</td>\n",
       "      <td>4</td>\n",
       "      <td>PT SALON KITA INDONESIA</td>\n",
       "      <td>SALONKITA.ID</td>\n",
       "      <td>NaN</td>\n",
       "      <td>NaN</td>\n",
       "      <td>NaN</td>\n",
       "      <td>NaN</td>\n",
       "      <td>NaN</td>\n",
       "      <td>NaN</td>\n",
       "      <td>NaN</td>\n",
       "      <td>NaN</td>\n",
       "      <td>NaN</td>\n",
       "      <td>NaN</td>\n",
       "    </tr>\n",
       "  </tbody>\n",
       "</table>\n",
       "<p>7416 rows × 14 columns</p>\n",
       "</div>"
      ],
      "text/plain": [
       "                               id_lowongan  durasi  \\\n",
       "0     60636725-0494-11ef-9e17-0a54edb93563       4   \n",
       "1     1b162247-048d-11ef-bb03-ceeddaa1b367       4   \n",
       "2     190c81c5-048a-11ef-9e17-0a54edb93563       4   \n",
       "3     90665e71-0490-11ef-bb7f-6ac06bc5928b       4   \n",
       "4     f2b8c752-04a0-11ef-8394-36f764739585       4   \n",
       "...                                    ...     ...   \n",
       "7411  039c521f-4ac2-46a0-b53b-33d487fee509       4   \n",
       "7412  e3e2c034-0365-44b4-badb-c33a22fb33b7       3   \n",
       "7413  45bf7d76-36a6-4496-b920-b2cfab9da4e3       4   \n",
       "7414  3049aa1b-9420-4e01-a1dc-36982bd0c054       6   \n",
       "7415  da0fa84e-d0eb-4419-8f4f-0480eb476b1b       4   \n",
       "\n",
       "                                                  mitra       brand_mitra  \\\n",
       "0     Dinas Lingkungan Hidup dan Kehutanan Daerah Is...          DLHK DIY   \n",
       "1     Dinas Lingkungan Hidup dan Kehutanan Daerah Is...          DLHK DIY   \n",
       "2     Dinas Lingkungan Hidup dan Kehutanan Daerah Is...          DLHK DIY   \n",
       "3     Dinas Lingkungan Hidup dan Kehutanan Daerah Is...          DLHK DIY   \n",
       "4     Dinas Lingkungan Hidup dan Kehutanan Daerah Is...          DLHK DIY   \n",
       "...                                                 ...               ...   \n",
       "7411                            PT SALON KITA INDONESIA      SALONKITA.ID   \n",
       "7412                       PT Modular Kuliner Indonesia  Hangry Indonesia   \n",
       "7413                            PT SALON KITA INDONESIA      SALONKITA.ID   \n",
       "7414                       PT Modular Kuliner Indonesia  Hangry Indonesia   \n",
       "7415                            PT SALON KITA INDONESIA      SALONKITA.ID   \n",
       "\n",
       "                                                   logo  \\\n",
       "0     https://storage.googleapis.com/kampusmerdeka_k...   \n",
       "1     https://storage.googleapis.com/kampusmerdeka_k...   \n",
       "2     https://storage.googleapis.com/kampusmerdeka_k...   \n",
       "3     https://storage.googleapis.com/kampusmerdeka_k...   \n",
       "4     https://storage.googleapis.com/kampusmerdeka_k...   \n",
       "...                                                 ...   \n",
       "7411                                                NaN   \n",
       "7412  https://storage.googleapis.com/kampusmerdeka_k...   \n",
       "7413                                                NaN   \n",
       "7414  https://storage.googleapis.com/kampusmerdeka_k...   \n",
       "7415                                                NaN   \n",
       "\n",
       "                                          nama_lowongan  \\\n",
       "0                                  Full-stack Developer   \n",
       "1                                       Pengelola Arsip   \n",
       "2                                        Layanan Publik   \n",
       "3                                        Staf Manajemen   \n",
       "4     Library Quality Analysis Staff and Integrated ...   \n",
       "...                                                 ...   \n",
       "7411                                                NaN   \n",
       "7412                                                NaN   \n",
       "7413                                                NaN   \n",
       "7414                                                NaN   \n",
       "7415                                                NaN   \n",
       "\n",
       "                                            detail_nama  \\\n",
       "0                        Information Technology Systems   \n",
       "1                         Layanan Pengelolaan Kearsipan   \n",
       "2     Public Relations Services Management-Subbagian...   \n",
       "3     Licensing And Management Administration- Balai...   \n",
       "4     Learning Management Improvement Of Public Serv...   \n",
       "...                                                 ...   \n",
       "7411                                                NaN   \n",
       "7412                                                NaN   \n",
       "7413                                                NaN   \n",
       "7414                                                NaN   \n",
       "7415                                                NaN   \n",
       "\n",
       "                                            persyaratan  \\\n",
       "0     Jurusan: Teknologi Informasi atau jurusan lain...   \n",
       "1     Persyaratan pendaftar program adalah:\\n1.\\tMah...   \n",
       "2     Persyaratan pendaftar program adalah\\n1. Mahas...   \n",
       "3     Persyaratan pendaftar program adalah\\n1. Mahas...   \n",
       "4     Persyaratan pendaftar program adalah\\n1. Mahas...   \n",
       "...                                                 ...   \n",
       "7411                                                NaN   \n",
       "7412                                                NaN   \n",
       "7413                                                NaN   \n",
       "7414                                                NaN   \n",
       "7415                                                NaN   \n",
       "\n",
       "                                         nama_aktifitas  \\\n",
       "0                        Information Technology Systems   \n",
       "1                         Layanan Pengelolaan Kearsipan   \n",
       "2     Public Relations Services Management-Subbagian...   \n",
       "3     Licensing And Management Administration- Balai...   \n",
       "4     Learning Management Improvement Of Public Serv...   \n",
       "...                                                 ...   \n",
       "7411                                                NaN   \n",
       "7412                                                NaN   \n",
       "7413                                                NaN   \n",
       "7414                                                NaN   \n",
       "7415                                                NaN   \n",
       "\n",
       "                                              deskripsi  \\\n",
       "0     Magang Information Technology Systems di DLHK ...   \n",
       "1     Magang Layanan Pengelolaan Kearsipan di DLHK D...   \n",
       "2     Magang Pengelolaan Layanan Kehumasan-Subbagian...   \n",
       "3     Magang Licensing and Management Administration...   \n",
       "4     DLHK DIY telah menginisiasi program \"Optimalis...   \n",
       "...                                                 ...   \n",
       "7411                                                NaN   \n",
       "7412                                                NaN   \n",
       "7413                                                NaN   \n",
       "7414                                                NaN   \n",
       "7415                                                NaN   \n",
       "\n",
       "                                       detail_deskripsi           lokasi  \\\n",
       "0     Pelaksanaan magang di DLHK DIY memiliki bebera...  Kota Yogyakarta   \n",
       "1     Pelaksanaan magang di DLHK DIY memiliki bebera...  Kota Yogyakarta   \n",
       "2     Pelaksanaan magang di DLHK DIY memiliki bebera...  Kota Yogyakarta   \n",
       "3     Pelaksanaan magang di DLHK DIY memiliki bebera...  Kota Yogyakarta   \n",
       "4     Pelaksanaan magang di DLHK DIY memiliki bebera...  Kota Yogyakarta   \n",
       "...                                                 ...              ...   \n",
       "7411                                                NaN              NaN   \n",
       "7412                                                NaN              NaN   \n",
       "7413                                                NaN              NaN   \n",
       "7414                                                NaN              NaN   \n",
       "7415                                                NaN              NaN   \n",
       "\n",
       "     pelaksanaan sertifikasi  \n",
       "0        OFFLINE        True  \n",
       "1        OFFLINE        True  \n",
       "2        OFFLINE        True  \n",
       "3        OFFLINE        True  \n",
       "4        OFFLINE        True  \n",
       "...          ...         ...  \n",
       "7411         NaN         NaN  \n",
       "7412         NaN         NaN  \n",
       "7413         NaN         NaN  \n",
       "7414         NaN         NaN  \n",
       "7415         NaN         NaN  \n",
       "\n",
       "[7416 rows x 14 columns]"
      ]
     },
     "execution_count": 7,
     "metadata": {},
     "output_type": "execute_result"
    }
   ],
   "source": [
    "df   = pd.read_csv('C:/Users/ASUS/kode/Projek/15. msib_Rekomendasi/data_lowongan.csv')\n",
    "df"
   ]
  },
  {
   "cell_type": "code",
   "execution_count": 9,
   "id": "9b957d07",
   "metadata": {},
   "outputs": [
    {
     "data": {
      "text/plain": [
       "'Magang Information Technology Systems di DLHK DIY menawarkan kesempatan untuk terlibat dalam pengembangan dan pemeliharaan sistem teknologi informasi. Ini mencakup pengembangan, pemeliharaan, dukungan pengguna, keamanan informasi, dan pengembangan aplikasi. Peserta magang akan memperoleh pengalaman praktis dalam lingkungan pemerintah dengan bimbingan para profesional IT. Ini merupakan langkah awal yang kuat bagi karir di bidang teknologi informasi, khususnya dalam sektor pelayanan publik.'"
      ]
     },
     "execution_count": 9,
     "metadata": {},
     "output_type": "execute_result"
    }
   ],
   "source": [
    "df['deskripsi'][0]"
   ]
  },
  {
   "cell_type": "markdown",
   "id": "d9d0e0f8",
   "metadata": {},
   "source": [
    "### Data Preprocessing\n",
    "- Cleaning Data missing value\n",
    "- Seleksi Fitur: Memilih fitur yang relevan dan berguna untuk proses pemodelan.\n",
    "- Pembersihan Data Teks yang tidak diperlukan pada suatu variabel\n",
    "- Pembersihan Deskripsi: Mengonversi/merubah kolom 'deskripsi' dan kolom lainnya menjadi list menggunakan metode split.\n",
    "- Penggabungan Fitur: Menggabungkan semua fitur yang digunakan ke dalam satu fitur utama yang mengandung informasi selain 'nama_produk'.\n",
    "- Stemming: Melakukan proses stemming untuk menormalkan kata-kata dalam dataset.\n",
    "- Lowercasing: Mengubah semua teks menjadi huruf kecil untuk konsistensi.\n",
    "- Count Vectorizer: Mengubah teks menjadi representasi numerik menggunakan Count Vectorizer untuk persiapan pemodelan."
   ]
  },
  {
   "cell_type": "code",
   "execution_count": 8,
   "id": "33de6eb5",
   "metadata": {},
   "outputs": [
    {
     "name": "stdout",
     "output_type": "stream",
     "text": [
      "<class 'pandas.core.frame.DataFrame'>\n",
      "RangeIndex: 7416 entries, 0 to 7415\n",
      "Data columns (total 14 columns):\n",
      " #   Column            Non-Null Count  Dtype \n",
      "---  ------            --------------  ----- \n",
      " 0   id_lowongan       7416 non-null   object\n",
      " 1   durasi            7416 non-null   int64 \n",
      " 2   mitra             7416 non-null   object\n",
      " 3   brand_mitra       7416 non-null   object\n",
      " 4   logo              7202 non-null   object\n",
      " 5   nama_lowongan     6218 non-null   object\n",
      " 6   detail_nama       6218 non-null   object\n",
      " 7   persyaratan       6218 non-null   object\n",
      " 8   nama_aktifitas    6218 non-null   object\n",
      " 9   deskripsi         6218 non-null   object\n",
      " 10  detail_deskripsi  2302 non-null   object\n",
      " 11  lokasi            6218 non-null   object\n",
      " 12  pelaksanaan       6218 non-null   object\n",
      " 13  sertifikasi       6218 non-null   object\n",
      "dtypes: int64(1), object(13)\n",
      "memory usage: 811.3+ KB\n"
     ]
    }
   ],
   "source": [
    "df.info()"
   ]
  },
  {
   "cell_type": "code",
   "execution_count": 10,
   "id": "d0962d7a",
   "metadata": {},
   "outputs": [],
   "source": [
    "df2                   = df.copy()[['nama_lowongan',\n",
    "                                   'detail_nama',\n",
    "                                   'persyaratan',\n",
    "                                   'lokasi']].copy()\n",
    "\n",
    "df2['nama_lowongan2'] = df2['nama_lowongan']"
   ]
  },
  {
   "cell_type": "code",
   "execution_count": 11,
   "id": "95fa8977",
   "metadata": {},
   "outputs": [
    {
     "data": {
      "text/html": [
       "<div>\n",
       "<style scoped>\n",
       "    .dataframe tbody tr th:only-of-type {\n",
       "        vertical-align: middle;\n",
       "    }\n",
       "\n",
       "    .dataframe tbody tr th {\n",
       "        vertical-align: top;\n",
       "    }\n",
       "\n",
       "    .dataframe thead th {\n",
       "        text-align: right;\n",
       "    }\n",
       "</style>\n",
       "<table border=\"1\" class=\"dataframe\">\n",
       "  <thead>\n",
       "    <tr style=\"text-align: right;\">\n",
       "      <th></th>\n",
       "      <th>nama_lowongan</th>\n",
       "      <th>detail_nama</th>\n",
       "      <th>persyaratan</th>\n",
       "      <th>lokasi</th>\n",
       "      <th>nama_lowongan2</th>\n",
       "    </tr>\n",
       "  </thead>\n",
       "  <tbody>\n",
       "    <tr>\n",
       "      <th>0</th>\n",
       "      <td>Full-stack Developer</td>\n",
       "      <td>Information Technology Systems</td>\n",
       "      <td>Jurusan: Teknologi Informasi atau jurusan lain...</td>\n",
       "      <td>Kota Yogyakarta</td>\n",
       "      <td>Full-stack Developer</td>\n",
       "    </tr>\n",
       "    <tr>\n",
       "      <th>1</th>\n",
       "      <td>Pengelola Arsip</td>\n",
       "      <td>Layanan Pengelolaan Kearsipan</td>\n",
       "      <td>Persyaratan pendaftar program adalah:\\n1.\\tMah...</td>\n",
       "      <td>Kota Yogyakarta</td>\n",
       "      <td>Pengelola Arsip</td>\n",
       "    </tr>\n",
       "    <tr>\n",
       "      <th>2</th>\n",
       "      <td>Layanan Publik</td>\n",
       "      <td>Public Relations Services Management-Subbagian...</td>\n",
       "      <td>Persyaratan pendaftar program adalah\\n1. Mahas...</td>\n",
       "      <td>Kota Yogyakarta</td>\n",
       "      <td>Layanan Publik</td>\n",
       "    </tr>\n",
       "    <tr>\n",
       "      <th>3</th>\n",
       "      <td>Staf Manajemen</td>\n",
       "      <td>Licensing And Management Administration- Balai...</td>\n",
       "      <td>Persyaratan pendaftar program adalah\\n1. Mahas...</td>\n",
       "      <td>Kota Yogyakarta</td>\n",
       "      <td>Staf Manajemen</td>\n",
       "    </tr>\n",
       "    <tr>\n",
       "      <th>4</th>\n",
       "      <td>Library Quality Analysis Staff and Integrated ...</td>\n",
       "      <td>Learning Management Improvement Of Public Serv...</td>\n",
       "      <td>Persyaratan pendaftar program adalah\\n1. Mahas...</td>\n",
       "      <td>Kota Yogyakarta</td>\n",
       "      <td>Library Quality Analysis Staff and Integrated ...</td>\n",
       "    </tr>\n",
       "    <tr>\n",
       "      <th>...</th>\n",
       "      <td>...</td>\n",
       "      <td>...</td>\n",
       "      <td>...</td>\n",
       "      <td>...</td>\n",
       "      <td>...</td>\n",
       "    </tr>\n",
       "    <tr>\n",
       "      <th>7411</th>\n",
       "      <td>NaN</td>\n",
       "      <td>NaN</td>\n",
       "      <td>NaN</td>\n",
       "      <td>NaN</td>\n",
       "      <td>NaN</td>\n",
       "    </tr>\n",
       "    <tr>\n",
       "      <th>7412</th>\n",
       "      <td>NaN</td>\n",
       "      <td>NaN</td>\n",
       "      <td>NaN</td>\n",
       "      <td>NaN</td>\n",
       "      <td>NaN</td>\n",
       "    </tr>\n",
       "    <tr>\n",
       "      <th>7413</th>\n",
       "      <td>NaN</td>\n",
       "      <td>NaN</td>\n",
       "      <td>NaN</td>\n",
       "      <td>NaN</td>\n",
       "      <td>NaN</td>\n",
       "    </tr>\n",
       "    <tr>\n",
       "      <th>7414</th>\n",
       "      <td>NaN</td>\n",
       "      <td>NaN</td>\n",
       "      <td>NaN</td>\n",
       "      <td>NaN</td>\n",
       "      <td>NaN</td>\n",
       "    </tr>\n",
       "    <tr>\n",
       "      <th>7415</th>\n",
       "      <td>NaN</td>\n",
       "      <td>NaN</td>\n",
       "      <td>NaN</td>\n",
       "      <td>NaN</td>\n",
       "      <td>NaN</td>\n",
       "    </tr>\n",
       "  </tbody>\n",
       "</table>\n",
       "<p>7416 rows × 5 columns</p>\n",
       "</div>"
      ],
      "text/plain": [
       "                                          nama_lowongan  \\\n",
       "0                                  Full-stack Developer   \n",
       "1                                       Pengelola Arsip   \n",
       "2                                        Layanan Publik   \n",
       "3                                        Staf Manajemen   \n",
       "4     Library Quality Analysis Staff and Integrated ...   \n",
       "...                                                 ...   \n",
       "7411                                                NaN   \n",
       "7412                                                NaN   \n",
       "7413                                                NaN   \n",
       "7414                                                NaN   \n",
       "7415                                                NaN   \n",
       "\n",
       "                                            detail_nama  \\\n",
       "0                        Information Technology Systems   \n",
       "1                         Layanan Pengelolaan Kearsipan   \n",
       "2     Public Relations Services Management-Subbagian...   \n",
       "3     Licensing And Management Administration- Balai...   \n",
       "4     Learning Management Improvement Of Public Serv...   \n",
       "...                                                 ...   \n",
       "7411                                                NaN   \n",
       "7412                                                NaN   \n",
       "7413                                                NaN   \n",
       "7414                                                NaN   \n",
       "7415                                                NaN   \n",
       "\n",
       "                                            persyaratan           lokasi  \\\n",
       "0     Jurusan: Teknologi Informasi atau jurusan lain...  Kota Yogyakarta   \n",
       "1     Persyaratan pendaftar program adalah:\\n1.\\tMah...  Kota Yogyakarta   \n",
       "2     Persyaratan pendaftar program adalah\\n1. Mahas...  Kota Yogyakarta   \n",
       "3     Persyaratan pendaftar program adalah\\n1. Mahas...  Kota Yogyakarta   \n",
       "4     Persyaratan pendaftar program adalah\\n1. Mahas...  Kota Yogyakarta   \n",
       "...                                                 ...              ...   \n",
       "7411                                                NaN              NaN   \n",
       "7412                                                NaN              NaN   \n",
       "7413                                                NaN              NaN   \n",
       "7414                                                NaN              NaN   \n",
       "7415                                                NaN              NaN   \n",
       "\n",
       "                                         nama_lowongan2  \n",
       "0                                  Full-stack Developer  \n",
       "1                                       Pengelola Arsip  \n",
       "2                                        Layanan Publik  \n",
       "3                                        Staf Manajemen  \n",
       "4     Library Quality Analysis Staff and Integrated ...  \n",
       "...                                                 ...  \n",
       "7411                                                NaN  \n",
       "7412                                                NaN  \n",
       "7413                                                NaN  \n",
       "7414                                                NaN  \n",
       "7415                                                NaN  \n",
       "\n",
       "[7416 rows x 5 columns]"
      ]
     },
     "execution_count": 11,
     "metadata": {},
     "output_type": "execute_result"
    }
   ],
   "source": [
    "df2"
   ]
  },
  {
   "cell_type": "code",
   "execution_count": 12,
   "id": "93aedc9b",
   "metadata": {},
   "outputs": [
    {
     "name": "stdout",
     "output_type": "stream",
     "text": [
      "<class 'pandas.core.frame.DataFrame'>\n",
      "RangeIndex: 7416 entries, 0 to 7415\n",
      "Data columns (total 5 columns):\n",
      " #   Column          Non-Null Count  Dtype \n",
      "---  ------          --------------  ----- \n",
      " 0   nama_lowongan   6218 non-null   object\n",
      " 1   detail_nama     6218 non-null   object\n",
      " 2   persyaratan     6218 non-null   object\n",
      " 3   lokasi          6218 non-null   object\n",
      " 4   nama_lowongan2  6218 non-null   object\n",
      "dtypes: object(5)\n",
      "memory usage: 289.8+ KB\n"
     ]
    }
   ],
   "source": [
    "df2.info()"
   ]
  },
  {
   "cell_type": "markdown",
   "id": "a6869849",
   "metadata": {},
   "source": [
    "### Data Cleaning"
   ]
  },
  {
   "cell_type": "code",
   "execution_count": 13,
   "id": "f601ea37",
   "metadata": {},
   "outputs": [
    {
     "data": {
      "text/plain": [
       "nama_lowongan     1198\n",
       "detail_nama       1198\n",
       "persyaratan       1198\n",
       "lokasi            1198\n",
       "nama_lowongan2    1198\n",
       "dtype: int64"
      ]
     },
     "execution_count": 13,
     "metadata": {},
     "output_type": "execute_result"
    }
   ],
   "source": [
    "df2.isnull().sum()"
   ]
  },
  {
   "cell_type": "code",
   "execution_count": 14,
   "id": "86f9886d",
   "metadata": {},
   "outputs": [],
   "source": [
    "df2_bersih = df2.dropna()"
   ]
  },
  {
   "cell_type": "code",
   "execution_count": 15,
   "id": "68703557",
   "metadata": {},
   "outputs": [
    {
     "name": "stdout",
     "output_type": "stream",
     "text": [
      "nama_lowongan     0\n",
      "detail_nama       0\n",
      "persyaratan       0\n",
      "lokasi            0\n",
      "nama_lowongan2    0\n",
      "dtype: int64\n"
     ]
    }
   ],
   "source": [
    "print(df2_bersih.isnull().sum())"
   ]
  },
  {
   "cell_type": "code",
   "execution_count": 16,
   "id": "9ebf189a",
   "metadata": {},
   "outputs": [
    {
     "data": {
      "text/plain": [
       "11"
      ]
     },
     "execution_count": 16,
     "metadata": {},
     "output_type": "execute_result"
    }
   ],
   "source": [
    "df2_bersih.duplicated().sum()"
   ]
  },
  {
   "cell_type": "code",
   "execution_count": 17,
   "id": "68ede492",
   "metadata": {},
   "outputs": [],
   "source": [
    "df2_bersih = df2_bersih.drop_duplicates()"
   ]
  },
  {
   "cell_type": "code",
   "execution_count": 18,
   "id": "5e00db7b",
   "metadata": {},
   "outputs": [
    {
     "data": {
      "text/html": [
       "<div>\n",
       "<style scoped>\n",
       "    .dataframe tbody tr th:only-of-type {\n",
       "        vertical-align: middle;\n",
       "    }\n",
       "\n",
       "    .dataframe tbody tr th {\n",
       "        vertical-align: top;\n",
       "    }\n",
       "\n",
       "    .dataframe thead th {\n",
       "        text-align: right;\n",
       "    }\n",
       "</style>\n",
       "<table border=\"1\" class=\"dataframe\">\n",
       "  <thead>\n",
       "    <tr style=\"text-align: right;\">\n",
       "      <th></th>\n",
       "      <th>nama_lowongan</th>\n",
       "      <th>detail_nama</th>\n",
       "      <th>persyaratan</th>\n",
       "      <th>lokasi</th>\n",
       "      <th>nama_lowongan2</th>\n",
       "    </tr>\n",
       "  </thead>\n",
       "  <tbody>\n",
       "    <tr>\n",
       "      <th>0</th>\n",
       "      <td>Full-stack Developer</td>\n",
       "      <td>Information Technology Systems</td>\n",
       "      <td>Jurusan: Teknologi Informasi atau jurusan lain...</td>\n",
       "      <td>Kota Yogyakarta</td>\n",
       "      <td>Full-stack Developer</td>\n",
       "    </tr>\n",
       "    <tr>\n",
       "      <th>1</th>\n",
       "      <td>Pengelola Arsip</td>\n",
       "      <td>Layanan Pengelolaan Kearsipan</td>\n",
       "      <td>Persyaratan pendaftar program adalah:\\n1.\\tMah...</td>\n",
       "      <td>Kota Yogyakarta</td>\n",
       "      <td>Pengelola Arsip</td>\n",
       "    </tr>\n",
       "    <tr>\n",
       "      <th>2</th>\n",
       "      <td>Layanan Publik</td>\n",
       "      <td>Public Relations Services Management-Subbagian...</td>\n",
       "      <td>Persyaratan pendaftar program adalah\\n1. Mahas...</td>\n",
       "      <td>Kota Yogyakarta</td>\n",
       "      <td>Layanan Publik</td>\n",
       "    </tr>\n",
       "    <tr>\n",
       "      <th>3</th>\n",
       "      <td>Staf Manajemen</td>\n",
       "      <td>Licensing And Management Administration- Balai...</td>\n",
       "      <td>Persyaratan pendaftar program adalah\\n1. Mahas...</td>\n",
       "      <td>Kota Yogyakarta</td>\n",
       "      <td>Staf Manajemen</td>\n",
       "    </tr>\n",
       "    <tr>\n",
       "      <th>4</th>\n",
       "      <td>Library Quality Analysis Staff and Integrated ...</td>\n",
       "      <td>Learning Management Improvement Of Public Serv...</td>\n",
       "      <td>Persyaratan pendaftar program adalah\\n1. Mahas...</td>\n",
       "      <td>Kota Yogyakarta</td>\n",
       "      <td>Library Quality Analysis Staff and Integrated ...</td>\n",
       "    </tr>\n",
       "  </tbody>\n",
       "</table>\n",
       "</div>"
      ],
      "text/plain": [
       "                                       nama_lowongan  \\\n",
       "0                               Full-stack Developer   \n",
       "1                                    Pengelola Arsip   \n",
       "2                                     Layanan Publik   \n",
       "3                                     Staf Manajemen   \n",
       "4  Library Quality Analysis Staff and Integrated ...   \n",
       "\n",
       "                                         detail_nama  \\\n",
       "0                     Information Technology Systems   \n",
       "1                      Layanan Pengelolaan Kearsipan   \n",
       "2  Public Relations Services Management-Subbagian...   \n",
       "3  Licensing And Management Administration- Balai...   \n",
       "4  Learning Management Improvement Of Public Serv...   \n",
       "\n",
       "                                         persyaratan           lokasi  \\\n",
       "0  Jurusan: Teknologi Informasi atau jurusan lain...  Kota Yogyakarta   \n",
       "1  Persyaratan pendaftar program adalah:\\n1.\\tMah...  Kota Yogyakarta   \n",
       "2  Persyaratan pendaftar program adalah\\n1. Mahas...  Kota Yogyakarta   \n",
       "3  Persyaratan pendaftar program adalah\\n1. Mahas...  Kota Yogyakarta   \n",
       "4  Persyaratan pendaftar program adalah\\n1. Mahas...  Kota Yogyakarta   \n",
       "\n",
       "                                      nama_lowongan2  \n",
       "0                               Full-stack Developer  \n",
       "1                                    Pengelola Arsip  \n",
       "2                                     Layanan Publik  \n",
       "3                                     Staf Manajemen  \n",
       "4  Library Quality Analysis Staff and Integrated ...  "
      ]
     },
     "execution_count": 18,
     "metadata": {},
     "output_type": "execute_result"
    }
   ],
   "source": [
    "df2_bersih.head(5)"
   ]
  },
  {
   "cell_type": "code",
   "execution_count": 19,
   "id": "45d9cbdf",
   "metadata": {},
   "outputs": [
    {
     "data": {
      "text/plain": [
       "'Persyaratan pendaftar program adalah:\\n1.\\tMahasiswa D4 /S1 Pengelolaan Arsip dan Administrasi Publik atau bidang ilmu yang sesuai\\n2.\\tMahasiswa minimal semester IV (empat)\\n3. Berasal dari Program Studi terakreditasi minimal B atau Baik Sekali\\n4.\\tMemiliki kemampuan (hardskill dan softskill) sebagai berikut:  Kemampuan Pengolaan Kearsipan, Memiliki  Etos Kerja yang tinggi, Berpikir Kritis dan Mampu Bekerjasama dan Kolaborasi.\\n\\n'"
      ]
     },
     "execution_count": 19,
     "metadata": {},
     "output_type": "execute_result"
    }
   ],
   "source": [
    "df2_bersih['persyaratan'][1]"
   ]
  },
  {
   "cell_type": "code",
   "execution_count": 20,
   "id": "cc838d7e",
   "metadata": {},
   "outputs": [],
   "source": [
    "df2_bersih['persyaratan']      = df2_bersih['persyaratan'].str.replace('\\n', '')"
   ]
  },
  {
   "cell_type": "code",
   "execution_count": 21,
   "id": "f14ad1b8",
   "metadata": {},
   "outputs": [],
   "source": [
    "df2_bersih['persyaratan']      = df2_bersih['persyaratan'].str.replace('\\t', '')"
   ]
  },
  {
   "cell_type": "code",
   "execution_count": 22,
   "id": "c2b4ee16",
   "metadata": {},
   "outputs": [
    {
     "data": {
      "text/html": [
       "<div>\n",
       "<style scoped>\n",
       "    .dataframe tbody tr th:only-of-type {\n",
       "        vertical-align: middle;\n",
       "    }\n",
       "\n",
       "    .dataframe tbody tr th {\n",
       "        vertical-align: top;\n",
       "    }\n",
       "\n",
       "    .dataframe thead th {\n",
       "        text-align: right;\n",
       "    }\n",
       "</style>\n",
       "<table border=\"1\" class=\"dataframe\">\n",
       "  <thead>\n",
       "    <tr style=\"text-align: right;\">\n",
       "      <th></th>\n",
       "      <th>nama_lowongan</th>\n",
       "      <th>detail_nama</th>\n",
       "      <th>persyaratan</th>\n",
       "      <th>lokasi</th>\n",
       "      <th>nama_lowongan2</th>\n",
       "    </tr>\n",
       "  </thead>\n",
       "  <tbody>\n",
       "    <tr>\n",
       "      <th>0</th>\n",
       "      <td>Full-stack Developer</td>\n",
       "      <td>Information Technology Systems</td>\n",
       "      <td>Jurusan: Teknologi Informasi atau jurusan lain...</td>\n",
       "      <td>Kota Yogyakarta</td>\n",
       "      <td>Full-stack Developer</td>\n",
       "    </tr>\n",
       "    <tr>\n",
       "      <th>1</th>\n",
       "      <td>Pengelola Arsip</td>\n",
       "      <td>Layanan Pengelolaan Kearsipan</td>\n",
       "      <td>Persyaratan pendaftar program adalah:1.Mahasis...</td>\n",
       "      <td>Kota Yogyakarta</td>\n",
       "      <td>Pengelola Arsip</td>\n",
       "    </tr>\n",
       "    <tr>\n",
       "      <th>2</th>\n",
       "      <td>Layanan Publik</td>\n",
       "      <td>Public Relations Services Management-Subbagian...</td>\n",
       "      <td>Persyaratan pendaftar program adalah1. Mahasis...</td>\n",
       "      <td>Kota Yogyakarta</td>\n",
       "      <td>Layanan Publik</td>\n",
       "    </tr>\n",
       "  </tbody>\n",
       "</table>\n",
       "</div>"
      ],
      "text/plain": [
       "          nama_lowongan                                        detail_nama  \\\n",
       "0  Full-stack Developer                     Information Technology Systems   \n",
       "1       Pengelola Arsip                      Layanan Pengelolaan Kearsipan   \n",
       "2        Layanan Publik  Public Relations Services Management-Subbagian...   \n",
       "\n",
       "                                         persyaratan           lokasi  \\\n",
       "0  Jurusan: Teknologi Informasi atau jurusan lain...  Kota Yogyakarta   \n",
       "1  Persyaratan pendaftar program adalah:1.Mahasis...  Kota Yogyakarta   \n",
       "2  Persyaratan pendaftar program adalah1. Mahasis...  Kota Yogyakarta   \n",
       "\n",
       "         nama_lowongan2  \n",
       "0  Full-stack Developer  \n",
       "1       Pengelola Arsip  \n",
       "2        Layanan Publik  "
      ]
     },
     "execution_count": 22,
     "metadata": {},
     "output_type": "execute_result"
    }
   ],
   "source": [
    "df2_bersih.head(3)"
   ]
  },
  {
   "cell_type": "code",
   "execution_count": 23,
   "id": "4d6055f0",
   "metadata": {},
   "outputs": [],
   "source": [
    "df2_bersih['nama_lowongan2']    = df2_bersih['nama_lowongan2'].astype(str).apply(lambda x: x.split())"
   ]
  },
  {
   "cell_type": "code",
   "execution_count": 24,
   "id": "823ba54b",
   "metadata": {},
   "outputs": [],
   "source": [
    "df2_bersih['persyaratan']       = df2_bersih['persyaratan'].astype(str).apply(lambda x: x.split())"
   ]
  },
  {
   "cell_type": "code",
   "execution_count": 25,
   "id": "e2b4efb0",
   "metadata": {},
   "outputs": [],
   "source": [
    "df2_bersih['detail_nama']       = df2_bersih['detail_nama'].astype(str).apply(lambda x: x.split())"
   ]
  },
  {
   "cell_type": "code",
   "execution_count": 26,
   "id": "651875e9",
   "metadata": {},
   "outputs": [],
   "source": [
    "df2_bersih['lokasi']            = df2_bersih['lokasi'].astype(str).apply(lambda x: x.split())"
   ]
  },
  {
   "cell_type": "code",
   "execution_count": 27,
   "id": "d63e471d",
   "metadata": {},
   "outputs": [],
   "source": [
    "df2_bersih['tags']              = df2_bersih['nama_lowongan2'] + df2_bersih['detail_nama'] + df2_bersih['lokasi'] + df2_bersih['persyaratan']"
   ]
  },
  {
   "cell_type": "code",
   "execution_count": 28,
   "id": "40504ebd",
   "metadata": {},
   "outputs": [
    {
     "data": {
      "text/plain": [
       "['Full-stack',\n",
       " 'Developer',\n",
       " 'Information',\n",
       " 'Technology',\n",
       " 'Systems',\n",
       " 'Kota',\n",
       " 'Yogyakarta',\n",
       " 'Jurusan:',\n",
       " 'Teknologi',\n",
       " 'Informasi',\n",
       " 'atau',\n",
       " 'jurusan',\n",
       " 'lain',\n",
       " 'yang',\n",
       " 'setaraJenjang:',\n",
       " 'S1Semester:',\n",
       " 'Minimal',\n",
       " 'semester',\n",
       " '6Kriteria',\n",
       " 'hard',\n",
       " 'skills:-',\n",
       " 'Menguasai',\n",
       " 'dasar',\n",
       " 'pemrograman',\n",
       " 'webKriteria',\n",
       " 'soft',\n",
       " 'skills:-Komunikasi-Bekerja',\n",
       " 'dalam',\n",
       " 'tim-Memiliki',\n",
       " 'inisiatif',\n",
       " 'tinggi']"
      ]
     },
     "execution_count": 28,
     "metadata": {},
     "output_type": "execute_result"
    }
   ],
   "source": [
    "df2_bersih['tags'][0]"
   ]
  },
  {
   "cell_type": "code",
   "execution_count": 29,
   "id": "7e6c62a6",
   "metadata": {},
   "outputs": [],
   "source": [
    "df_baru = df2_bersih[['nama_lowongan', 'tags']]"
   ]
  },
  {
   "cell_type": "code",
   "execution_count": 30,
   "id": "4060a31f",
   "metadata": {},
   "outputs": [
    {
     "data": {
      "text/html": [
       "<div>\n",
       "<style scoped>\n",
       "    .dataframe tbody tr th:only-of-type {\n",
       "        vertical-align: middle;\n",
       "    }\n",
       "\n",
       "    .dataframe tbody tr th {\n",
       "        vertical-align: top;\n",
       "    }\n",
       "\n",
       "    .dataframe thead th {\n",
       "        text-align: right;\n",
       "    }\n",
       "</style>\n",
       "<table border=\"1\" class=\"dataframe\">\n",
       "  <thead>\n",
       "    <tr style=\"text-align: right;\">\n",
       "      <th></th>\n",
       "      <th>nama_lowongan</th>\n",
       "      <th>tags</th>\n",
       "    </tr>\n",
       "  </thead>\n",
       "  <tbody>\n",
       "    <tr>\n",
       "      <th>0</th>\n",
       "      <td>Full-stack Developer</td>\n",
       "      <td>[Full-stack, Developer, Information, Technolog...</td>\n",
       "    </tr>\n",
       "    <tr>\n",
       "      <th>1</th>\n",
       "      <td>Pengelola Arsip</td>\n",
       "      <td>[Pengelola, Arsip, Layanan, Pengelolaan, Kears...</td>\n",
       "    </tr>\n",
       "    <tr>\n",
       "      <th>2</th>\n",
       "      <td>Layanan Publik</td>\n",
       "      <td>[Layanan, Publik, Public, Relations, Services,...</td>\n",
       "    </tr>\n",
       "    <tr>\n",
       "      <th>3</th>\n",
       "      <td>Staf Manajemen</td>\n",
       "      <td>[Staf, Manajemen, Licensing, And, Management, ...</td>\n",
       "    </tr>\n",
       "    <tr>\n",
       "      <th>4</th>\n",
       "      <td>Library Quality Analysis Staff and Integrated ...</td>\n",
       "      <td>[Library, Quality, Analysis, Staff, and, Integ...</td>\n",
       "    </tr>\n",
       "    <tr>\n",
       "      <th>...</th>\n",
       "      <td>...</td>\n",
       "      <td>...</td>\n",
       "    </tr>\n",
       "    <tr>\n",
       "      <th>7200</th>\n",
       "      <td>General maintenance</td>\n",
       "      <td>[General, maintenance, Operational, And, Back,...</td>\n",
       "    </tr>\n",
       "    <tr>\n",
       "      <th>7201</th>\n",
       "      <td>Cook &amp; steward</td>\n",
       "      <td>[Cook, &amp;, steward, Operational, And, Back, Off...</td>\n",
       "    </tr>\n",
       "    <tr>\n",
       "      <th>7202</th>\n",
       "      <td>Front Desk Agent, Concierge</td>\n",
       "      <td>[Front, Desk, Agent,, Concierge, Operational, ...</td>\n",
       "    </tr>\n",
       "    <tr>\n",
       "      <th>7203</th>\n",
       "      <td>Accounting</td>\n",
       "      <td>[Accounting, Operational, And, Back, Office, F...</td>\n",
       "    </tr>\n",
       "    <tr>\n",
       "      <th>7204</th>\n",
       "      <td>Junior Performance Management Officer</td>\n",
       "      <td>[Junior, Performance, Management, Officer, Pen...</td>\n",
       "    </tr>\n",
       "  </tbody>\n",
       "</table>\n",
       "<p>6207 rows × 2 columns</p>\n",
       "</div>"
      ],
      "text/plain": [
       "                                          nama_lowongan  \\\n",
       "0                                  Full-stack Developer   \n",
       "1                                       Pengelola Arsip   \n",
       "2                                        Layanan Publik   \n",
       "3                                        Staf Manajemen   \n",
       "4     Library Quality Analysis Staff and Integrated ...   \n",
       "...                                                 ...   \n",
       "7200                                General maintenance   \n",
       "7201                                     Cook & steward   \n",
       "7202                        Front Desk Agent, Concierge   \n",
       "7203                                         Accounting   \n",
       "7204              Junior Performance Management Officer   \n",
       "\n",
       "                                                   tags  \n",
       "0     [Full-stack, Developer, Information, Technolog...  \n",
       "1     [Pengelola, Arsip, Layanan, Pengelolaan, Kears...  \n",
       "2     [Layanan, Publik, Public, Relations, Services,...  \n",
       "3     [Staf, Manajemen, Licensing, And, Management, ...  \n",
       "4     [Library, Quality, Analysis, Staff, and, Integ...  \n",
       "...                                                 ...  \n",
       "7200  [General, maintenance, Operational, And, Back,...  \n",
       "7201  [Cook, &, steward, Operational, And, Back, Off...  \n",
       "7202  [Front, Desk, Agent,, Concierge, Operational, ...  \n",
       "7203  [Accounting, Operational, And, Back, Office, F...  \n",
       "7204  [Junior, Performance, Management, Officer, Pen...  \n",
       "\n",
       "[6207 rows x 2 columns]"
      ]
     },
     "execution_count": 30,
     "metadata": {},
     "output_type": "execute_result"
    }
   ],
   "source": [
    "df_baru"
   ]
  },
  {
   "cell_type": "code",
   "execution_count": 31,
   "id": "d35f3855",
   "metadata": {},
   "outputs": [],
   "source": [
    "df_baru['tags'] = df_baru['tags'].apply(lambda x: \" \".join(x))"
   ]
  },
  {
   "cell_type": "code",
   "execution_count": 32,
   "id": "8b242d34",
   "metadata": {},
   "outputs": [
    {
     "data": {
      "text/html": [
       "<div>\n",
       "<style scoped>\n",
       "    .dataframe tbody tr th:only-of-type {\n",
       "        vertical-align: middle;\n",
       "    }\n",
       "\n",
       "    .dataframe tbody tr th {\n",
       "        vertical-align: top;\n",
       "    }\n",
       "\n",
       "    .dataframe thead th {\n",
       "        text-align: right;\n",
       "    }\n",
       "</style>\n",
       "<table border=\"1\" class=\"dataframe\">\n",
       "  <thead>\n",
       "    <tr style=\"text-align: right;\">\n",
       "      <th></th>\n",
       "      <th>nama_lowongan</th>\n",
       "      <th>tags</th>\n",
       "    </tr>\n",
       "  </thead>\n",
       "  <tbody>\n",
       "    <tr>\n",
       "      <th>0</th>\n",
       "      <td>Full-stack Developer</td>\n",
       "      <td>Full-stack Developer Information Technology Sy...</td>\n",
       "    </tr>\n",
       "    <tr>\n",
       "      <th>1</th>\n",
       "      <td>Pengelola Arsip</td>\n",
       "      <td>Pengelola Arsip Layanan Pengelolaan Kearsipan ...</td>\n",
       "    </tr>\n",
       "    <tr>\n",
       "      <th>2</th>\n",
       "      <td>Layanan Publik</td>\n",
       "      <td>Layanan Publik Public Relations Services Manag...</td>\n",
       "    </tr>\n",
       "    <tr>\n",
       "      <th>3</th>\n",
       "      <td>Staf Manajemen</td>\n",
       "      <td>Staf Manajemen Licensing And Management Admini...</td>\n",
       "    </tr>\n",
       "    <tr>\n",
       "      <th>4</th>\n",
       "      <td>Library Quality Analysis Staff and Integrated ...</td>\n",
       "      <td>Library Quality Analysis Staff and Integrated ...</td>\n",
       "    </tr>\n",
       "    <tr>\n",
       "      <th>...</th>\n",
       "      <td>...</td>\n",
       "      <td>...</td>\n",
       "    </tr>\n",
       "    <tr>\n",
       "      <th>7200</th>\n",
       "      <td>General maintenance</td>\n",
       "      <td>General maintenance Operational And Back Offic...</td>\n",
       "    </tr>\n",
       "    <tr>\n",
       "      <th>7201</th>\n",
       "      <td>Cook &amp; steward</td>\n",
       "      <td>Cook &amp; steward Operational And Back Office For...</td>\n",
       "    </tr>\n",
       "    <tr>\n",
       "      <th>7202</th>\n",
       "      <td>Front Desk Agent, Concierge</td>\n",
       "      <td>Front Desk Agent, Concierge Operational And Ba...</td>\n",
       "    </tr>\n",
       "    <tr>\n",
       "      <th>7203</th>\n",
       "      <td>Accounting</td>\n",
       "      <td>Accounting Operational And Back Office For Hot...</td>\n",
       "    </tr>\n",
       "    <tr>\n",
       "      <th>7204</th>\n",
       "      <td>Junior Performance Management Officer</td>\n",
       "      <td>Junior Performance Management Officer Penguata...</td>\n",
       "    </tr>\n",
       "  </tbody>\n",
       "</table>\n",
       "<p>6207 rows × 2 columns</p>\n",
       "</div>"
      ],
      "text/plain": [
       "                                          nama_lowongan  \\\n",
       "0                                  Full-stack Developer   \n",
       "1                                       Pengelola Arsip   \n",
       "2                                        Layanan Publik   \n",
       "3                                        Staf Manajemen   \n",
       "4     Library Quality Analysis Staff and Integrated ...   \n",
       "...                                                 ...   \n",
       "7200                                General maintenance   \n",
       "7201                                     Cook & steward   \n",
       "7202                        Front Desk Agent, Concierge   \n",
       "7203                                         Accounting   \n",
       "7204              Junior Performance Management Officer   \n",
       "\n",
       "                                                   tags  \n",
       "0     Full-stack Developer Information Technology Sy...  \n",
       "1     Pengelola Arsip Layanan Pengelolaan Kearsipan ...  \n",
       "2     Layanan Publik Public Relations Services Manag...  \n",
       "3     Staf Manajemen Licensing And Management Admini...  \n",
       "4     Library Quality Analysis Staff and Integrated ...  \n",
       "...                                                 ...  \n",
       "7200  General maintenance Operational And Back Offic...  \n",
       "7201  Cook & steward Operational And Back Office For...  \n",
       "7202  Front Desk Agent, Concierge Operational And Ba...  \n",
       "7203  Accounting Operational And Back Office For Hot...  \n",
       "7204  Junior Performance Management Officer Penguata...  \n",
       "\n",
       "[6207 rows x 2 columns]"
      ]
     },
     "execution_count": 32,
     "metadata": {},
     "output_type": "execute_result"
    }
   ],
   "source": [
    "df_baru"
   ]
  },
  {
   "cell_type": "code",
   "execution_count": 33,
   "id": "ca8848e1",
   "metadata": {},
   "outputs": [],
   "source": [
    "df_baru.to_csv('C:/Users/ASUS/kode/Projek/15. msib_Rekomendasi/versi2/data_rekomendasi.csv', index=False)"
   ]
  },
  {
   "cell_type": "code",
   "execution_count": 34,
   "id": "5859842a",
   "metadata": {},
   "outputs": [
    {
     "data": {
      "text/plain": [
       "'Full-stack Developer Information Technology Systems Kota Yogyakarta Jurusan: Teknologi Informasi atau jurusan lain yang setaraJenjang: S1Semester: Minimal semester 6Kriteria hard skills:- Menguasai dasar pemrograman webKriteria soft skills:-Komunikasi-Bekerja dalam tim-Memiliki inisiatif tinggi'"
      ]
     },
     "execution_count": 34,
     "metadata": {},
     "output_type": "execute_result"
    }
   ],
   "source": [
    "df_baru['tags'][0]"
   ]
  },
  {
   "cell_type": "markdown",
   "id": "ef27a005",
   "metadata": {},
   "source": [
    "## Stemming\n",
    "Stemming adalah proses menghilangkan afiks (awalan, akhiran, dan infiks) dari kata untuk menghasilkan bentuk dasarnya, yang disebut \"kata dasar\" atau \"kata dasar\". Tujuannya adalah untuk mengkonversi kata-kata yang berbeda tetapi memiliki akar yang sama menjadi bentuk dasar yang seragam. Contohnya, kata-kata \"berlari\" dan \"melarikan\" akan diubah menjadi \"lari\" setelah proses stemming."
   ]
  },
  {
   "cell_type": "markdown",
   "id": "cc6d4e3c",
   "metadata": {},
   "source": [
    "### Stemming dengan Sastrawi\n",
    "\n",
    "Sastrawi adalah sebuah library Python yang dirancang khusus untuk melakukan stemming pada teks dalam bahasa Indonesia. Library ini menggunakan algoritma yang sesuai dengan struktur dan aturan bahasa Indonesia, sehingga mampu mengidentifikasi dan mengubah kata-kata ke bentuk dasarnya dengan baik."
   ]
  },
  {
   "cell_type": "code",
   "execution_count": 35,
   "id": "9b49e16d",
   "metadata": {},
   "outputs": [],
   "source": [
    "factory = StemmerFactory()\n",
    "stemmer = factory.create_stemmer()"
   ]
  },
  {
   "cell_type": "code",
   "execution_count": 36,
   "id": "b1d56701",
   "metadata": {},
   "outputs": [],
   "source": [
    "def stem_tags(tags):\n",
    "    stemmed_tags = [stemmer.stem(word) for word in tags]\n",
    "    return ' '.join(stemmed_tags)"
   ]
  },
  {
   "cell_type": "code",
   "execution_count": 37,
   "id": "5a3cf5df",
   "metadata": {},
   "outputs": [],
   "source": [
    "df_baru['tags'] = df_baru['tags'].apply(lambda x: stem_tags(x.split()))"
   ]
  },
  {
   "cell_type": "code",
   "execution_count": 38,
   "id": "a4a92b34",
   "metadata": {},
   "outputs": [
    {
     "data": {
      "text/plain": [
       "'full-stack developer information technology systems kota yogyakarta jurus teknologi informasi atau jurus lain yang setarajenjang s1semester minimal semester 6kriteria hard skills - kuasa dasar pemrograman webkriteria soft skills -komunikasi-bekerja dalam tim-memiliki inisiatif tinggi'"
      ]
     },
     "execution_count": 38,
     "metadata": {},
     "output_type": "execute_result"
    }
   ],
   "source": [
    "df_baru['tags'][0]"
   ]
  },
  {
   "cell_type": "code",
   "execution_count": 39,
   "id": "ed8f6753",
   "metadata": {},
   "outputs": [],
   "source": [
    "# lowercase dulu untuk mastiin aja\n",
    "df_baru['tags'] = df_baru['tags'].apply(lambda x: x.lower())"
   ]
  },
  {
   "cell_type": "code",
   "execution_count": 40,
   "id": "9447f76b",
   "metadata": {},
   "outputs": [
    {
     "data": {
      "text/plain": [
       "'full-stack developer information technology systems kota yogyakarta jurus teknologi informasi atau jurus lain yang setarajenjang s1semester minimal semester 6kriteria hard skills - kuasa dasar pemrograman webkriteria soft skills -komunikasi-bekerja dalam tim-memiliki inisiatif tinggi'"
      ]
     },
     "execution_count": 40,
     "metadata": {},
     "output_type": "execute_result"
    }
   ],
   "source": [
    "df_baru['tags'][0]"
   ]
  },
  {
   "cell_type": "markdown",
   "id": "163750f2",
   "metadata": {},
   "source": [
    "### Vector Representation dengan Count Vectorizer\n",
    "mengubah teks menjadi representasi numerik yang dapat dimengerti oleh model mesin. dengan bantuan stopword yang artinya menghapus kata-kata umum yang sering muncul dalam teks dan cenderung tidak memiliki makna khusus dalam proses analisis teks"
   ]
  },
  {
   "cell_type": "code",
   "execution_count": 41,
   "id": "cabfbdc9",
   "metadata": {},
   "outputs": [
    {
     "data": {
      "application/javascript": [
       "\n",
       "        if (window._pyforest_update_imports_cell) { window._pyforest_update_imports_cell('import pandas as pd\\nfrom sklearn.feature_extraction.text import CountVectorizer'); }\n",
       "    "
      ],
      "text/plain": [
       "<IPython.core.display.Javascript object>"
      ]
     },
     "metadata": {},
     "output_type": "display_data"
    }
   ],
   "source": [
    "stop_words_id = ['dan',\n",
    "                 'di',\n",
    "                 'dalam',\n",
    "                 'untuk',\n",
    "                 'dengan',\n",
    "                 'yang',\n",
    "                 'ini',\n",
    "                 'itu',\n",
    "                 'apa',\n",
    "                 'siapa',\n",
    "                 'kapan',\n",
    "                 'dimana',\n",
    "                 'bagaimana',\n",
    "                 'mengapa']\n",
    "\n",
    "cv            = CountVectorizer(max_features=5000, stop_words=stop_words_id)"
   ]
  },
  {
   "cell_type": "markdown",
   "id": "4f8c506d",
   "metadata": {},
   "source": [
    "seperti biasa, mencoba 5000 fitur terlebih dahulu tergantun kapabilitas/"
   ]
  },
  {
   "cell_type": "code",
   "execution_count": 42,
   "id": "6bacb8cb",
   "metadata": {},
   "outputs": [],
   "source": [
    "vektor = cv.fit_transform(df_baru['tags']).toarray()"
   ]
  },
  {
   "cell_type": "code",
   "execution_count": 43,
   "id": "e10af4e5",
   "metadata": {},
   "outputs": [
    {
     "data": {
      "text/plain": [
       "array([[0, 0, 0, ..., 0, 0, 0],\n",
       "       [0, 0, 0, ..., 0, 0, 0],\n",
       "       [0, 0, 0, ..., 0, 0, 0],\n",
       "       ...,\n",
       "       [0, 0, 0, ..., 0, 0, 0],\n",
       "       [0, 0, 0, ..., 0, 0, 0],\n",
       "       [0, 0, 0, ..., 0, 0, 0]], dtype=int64)"
      ]
     },
     "execution_count": 43,
     "metadata": {},
     "output_type": "execute_result"
    }
   ],
   "source": [
    "vektor"
   ]
  },
  {
   "cell_type": "code",
   "execution_count": 44,
   "id": "0bba52fd",
   "metadata": {},
   "outputs": [
    {
     "data": {
      "text/plain": [
       "array([0, 0, 0, ..., 0, 0, 0], dtype=int64)"
      ]
     },
     "execution_count": 44,
     "metadata": {},
     "output_type": "execute_result"
    }
   ],
   "source": [
    "vektor[0]"
   ]
  },
  {
   "cell_type": "code",
   "execution_count": 45,
   "id": "b64dcd38",
   "metadata": {},
   "outputs": [
    {
     "data": {
      "text/plain": [
       "array(['00', '000', '002', ..., 'zero', 'zoom', 'zurich'], dtype=object)"
      ]
     },
     "execution_count": 45,
     "metadata": {},
     "output_type": "execute_result"
    }
   ],
   "source": [
    "cv.get_feature_names_out()"
   ]
  },
  {
   "attachments": {
    "image-2.png": {
     "image/png": "[encoded data removed]"
    },
    "image.png": {
     "image/png": "[encoded data removed]"
    }
   },
   "cell_type": "markdown",
   "id": "68500944",
   "metadata": {},
   "source": [
    "## Cosine Similarity / Kemiripan\n",
    "cosine similarity itu untuk mengukur seberapa mirip dua vektor berada dalam ruang multidimensi array.\n",
    "\n",
    "Setiap dimensi dalam vektor mewakili kata atau fitur tertentu, dan nilai dalam dimensi tersebut menunjukkan seberapa sering kata tersebut muncul dalam teks. Cosine Similarity mengukur sudut kosinus antara dua vektor. Semakin dekat sudut antara dua vektor, semakin mirip (atau serupa) kedua vektor tersebut. Nilai Cosine Similarity berkisar antara -1 hingga 1, di mana 1 menunjukkan kesamaan sempurna, 0 menunjukkan ketidaksamaan, dan -1 menunjukkan ketidaksamaan sempurna.\n",
    "\n",
    "![image.png](attachment:image.png)\n",
    "\n",
    "![image-2.png](attachment:image-2.png)\n",
    "\n",
    "Cosine similarity antara dua vektor diukur dalam 'θ':\n",
    "- Jika θ = 0°, vektor 'x' dan 'y' saling tumpang tindih, sehingga membuktikan bahwa keduanya serupa.\n",
    "- Jika θ = 90°, vektor 'x' dan 'y' berbeda."
   ]
  },
  {
   "cell_type": "code",
   "execution_count": 46,
   "id": "04656a22",
   "metadata": {},
   "outputs": [
    {
     "data": {
      "text/plain": [
       "(6207, 6207)"
      ]
     },
     "execution_count": 46,
     "metadata": {},
     "output_type": "execute_result"
    }
   ],
   "source": [
    "cosine_similarity(vektor).shape"
   ]
  },
  {
   "cell_type": "code",
   "execution_count": 47,
   "id": "0a25583b",
   "metadata": {},
   "outputs": [],
   "source": [
    "kesamaan = cosine_similarity(vektor)"
   ]
  },
  {
   "cell_type": "code",
   "execution_count": 48,
   "id": "7bc3b5eb",
   "metadata": {
    "scrolled": true
   },
   "outputs": [
    {
     "data": {
      "text/plain": [
       "array([1.        , 0.14100337, 0.1391882 , ..., 0.13151919, 0.13151919,\n",
       "       0.08713129])"
      ]
     },
     "execution_count": 48,
     "metadata": {},
     "output_type": "execute_result"
    }
   ],
   "source": [
    "kesamaan[0]"
   ]
  },
  {
   "cell_type": "markdown",
   "id": "32732482",
   "metadata": {},
   "source": [
    "- enumerate untuk menghasilkan urutan atau no indeks\n",
    "- reverse = True itu dalam urutan yang tinggi ke terendah\n",
    "- fungsi lambda itu untuk mengurutkan daftar, jadi ambil elemen kedua (x[1]) dari stiap pasangan sebagai kunci pengurutn kita sampai 5 terats."
   ]
  },
  {
   "cell_type": "code",
   "execution_count": 49,
   "id": "5dd8c904",
   "metadata": {},
   "outputs": [
    {
     "data": {
      "text/plain": [
       "[(2403, 0.6675934204983898),\n",
       " (1508, 0.5812381937190965),\n",
       " (1506, 0.579147939141922),\n",
       " (1505, 0.57186276940104),\n",
       " (5742, 0.5314847358217434)]"
      ]
     },
     "execution_count": 49,
     "metadata": {},
     "output_type": "execute_result"
    }
   ],
   "source": [
    "# mencari top 5 menu berdasarkan suatu posisi lowongan\n",
    "\n",
    "sorted(list(enumerate(kesamaan[0])), reverse=True, key=lambda x: x[1])[1:6]"
   ]
  },
  {
   "cell_type": "markdown",
   "id": "8e777280",
   "metadata": {},
   "source": [
    "Hasil kesamaan tersebut cukup baik dikarenakan pada rentang nilai 0-1, khususnya di sekitar 5,3 - 5,5. Mungkin aku bisa ningkatin jumlah top produk yang memiliki kesamaan. Namun berdasarkan try dan error, mungkin kita bisa menampilkan rekomendasi 5 atau top 6 saja."
   ]
  },
  {
   "cell_type": "code",
   "execution_count": 50,
   "id": "c0d0b021",
   "metadata": {},
   "outputs": [
    {
     "data": {
      "text/plain": [
       "[(2403, 0.6675934204983898),\n",
       " (1508, 0.5812381937190965),\n",
       " (1506, 0.579147939141922),\n",
       " (1505, 0.57186276940104),\n",
       " (5742, 0.5314847358217434),\n",
       " (5739, 0.5135135135135136)]"
      ]
     },
     "execution_count": 50,
     "metadata": {},
     "output_type": "execute_result"
    }
   ],
   "source": [
    "sorted(list(enumerate(kesamaan[0])), reverse=True, key=lambda x: x[1])[1:7]"
   ]
  },
  {
   "cell_type": "code",
   "execution_count": 51,
   "id": "eba51026",
   "metadata": {},
   "outputs": [],
   "source": [
    "df_baru['nama_lowongan'] = df_baru['nama_lowongan'] + ' ' + df['mitra']"
   ]
  },
  {
   "cell_type": "code",
   "execution_count": 52,
   "id": "f999ecc5",
   "metadata": {},
   "outputs": [],
   "source": [
    "df_baru['nama_lowongan'] = df_baru['nama_lowongan'].str.replace('\\t', '')"
   ]
  },
  {
   "cell_type": "code",
   "execution_count": 53,
   "id": "e16510ae",
   "metadata": {},
   "outputs": [],
   "source": [
    "df_baru['nama_lowongan'] = df_baru['nama_lowongan'].str.replace('\\n', '')"
   ]
  },
  {
   "cell_type": "code",
   "execution_count": 54,
   "id": "2004aaab",
   "metadata": {},
   "outputs": [
    {
     "data": {
      "text/html": [
       "<div>\n",
       "<style scoped>\n",
       "    .dataframe tbody tr th:only-of-type {\n",
       "        vertical-align: middle;\n",
       "    }\n",
       "\n",
       "    .dataframe tbody tr th {\n",
       "        vertical-align: top;\n",
       "    }\n",
       "\n",
       "    .dataframe thead th {\n",
       "        text-align: right;\n",
       "    }\n",
       "</style>\n",
       "<table border=\"1\" class=\"dataframe\">\n",
       "  <thead>\n",
       "    <tr style=\"text-align: right;\">\n",
       "      <th></th>\n",
       "      <th>nama_lowongan</th>\n",
       "      <th>tags</th>\n",
       "    </tr>\n",
       "  </thead>\n",
       "  <tbody>\n",
       "    <tr>\n",
       "      <th>0</th>\n",
       "      <td>Full-stack Developer Dinas Lingkungan Hidup da...</td>\n",
       "      <td>full-stack developer information technology sy...</td>\n",
       "    </tr>\n",
       "    <tr>\n",
       "      <th>1</th>\n",
       "      <td>Pengelola Arsip Dinas Lingkungan Hidup dan Keh...</td>\n",
       "      <td>kelola arsip layan kelola arsip kota yogyakart...</td>\n",
       "    </tr>\n",
       "    <tr>\n",
       "      <th>2</th>\n",
       "      <td>Layanan Publik Dinas Lingkungan Hidup dan Kehu...</td>\n",
       "      <td>layan publik public relations services managem...</td>\n",
       "    </tr>\n",
       "    <tr>\n",
       "      <th>3</th>\n",
       "      <td>Staf Manajemen Dinas Lingkungan Hidup dan Kehu...</td>\n",
       "      <td>staf manajemen licensing and management admini...</td>\n",
       "    </tr>\n",
       "    <tr>\n",
       "      <th>4</th>\n",
       "      <td>Library Quality Analysis Staff and Integrated ...</td>\n",
       "      <td>library quality analysis staff and integrated ...</td>\n",
       "    </tr>\n",
       "    <tr>\n",
       "      <th>...</th>\n",
       "      <td>...</td>\n",
       "      <td>...</td>\n",
       "    </tr>\n",
       "    <tr>\n",
       "      <th>7200</th>\n",
       "      <td>General maintenance PT Putra Sumber Wisata Jaya</td>\n",
       "      <td>general maintenance operational and back offic...</td>\n",
       "    </tr>\n",
       "    <tr>\n",
       "      <th>7201</th>\n",
       "      <td>Cook &amp; steward PT Putra Sumber Wisata Jaya</td>\n",
       "      <td>cook  steward operational and back office for ...</td>\n",
       "    </tr>\n",
       "    <tr>\n",
       "      <th>7202</th>\n",
       "      <td>Front Desk Agent, Concierge PT Putra Sumber Wi...</td>\n",
       "      <td>front desk agent concierge operational and bac...</td>\n",
       "    </tr>\n",
       "    <tr>\n",
       "      <th>7203</th>\n",
       "      <td>Accounting PT Putra Sumber Wisata Jaya</td>\n",
       "      <td>accounting operational and back office for hot...</td>\n",
       "    </tr>\n",
       "    <tr>\n",
       "      <th>7204</th>\n",
       "      <td>Junior Performance Management Officer Perusaha...</td>\n",
       "      <td>junior performance management officer kuat pro...</td>\n",
       "    </tr>\n",
       "  </tbody>\n",
       "</table>\n",
       "<p>6207 rows × 2 columns</p>\n",
       "</div>"
      ],
      "text/plain": [
       "                                          nama_lowongan  \\\n",
       "0     Full-stack Developer Dinas Lingkungan Hidup da...   \n",
       "1     Pengelola Arsip Dinas Lingkungan Hidup dan Keh...   \n",
       "2     Layanan Publik Dinas Lingkungan Hidup dan Kehu...   \n",
       "3     Staf Manajemen Dinas Lingkungan Hidup dan Kehu...   \n",
       "4     Library Quality Analysis Staff and Integrated ...   \n",
       "...                                                 ...   \n",
       "7200    General maintenance PT Putra Sumber Wisata Jaya   \n",
       "7201         Cook & steward PT Putra Sumber Wisata Jaya   \n",
       "7202  Front Desk Agent, Concierge PT Putra Sumber Wi...   \n",
       "7203             Accounting PT Putra Sumber Wisata Jaya   \n",
       "7204  Junior Performance Management Officer Perusaha...   \n",
       "\n",
       "                                                   tags  \n",
       "0     full-stack developer information technology sy...  \n",
       "1     kelola arsip layan kelola arsip kota yogyakart...  \n",
       "2     layan publik public relations services managem...  \n",
       "3     staf manajemen licensing and management admini...  \n",
       "4     library quality analysis staff and integrated ...  \n",
       "...                                                 ...  \n",
       "7200  general maintenance operational and back offic...  \n",
       "7201  cook  steward operational and back office for ...  \n",
       "7202  front desk agent concierge operational and bac...  \n",
       "7203  accounting operational and back office for hot...  \n",
       "7204  junior performance management officer kuat pro...  \n",
       "\n",
       "[6207 rows x 2 columns]"
      ]
     },
     "execution_count": 54,
     "metadata": {},
     "output_type": "execute_result"
    }
   ],
   "source": [
    "df_baru"
   ]
  },
  {
   "cell_type": "code",
   "execution_count": 55,
   "id": "7216041a",
   "metadata": {},
   "outputs": [],
   "source": [
    "def rekomendasi_magang(lowongan):\n",
    "    magang_indeks      = df_baru[df_baru['nama_lowongan'] == lowongan].index[0]\n",
    "    jarak              = kesamaan[magang_indeks] # sebuah list\n",
    "    daftar_magang      = sorted(list(enumerate(jarak)), reverse=True, key=lambda x: x[1])[1:7]\n",
    "    rekomendasi_df     = pd.DataFrame(columns=['Nama Lowongan', 'Nilai Kesamaan'])\n",
    "    \n",
    "    for i in daftar_magang:\n",
    "        nama_lowongan  = df_baru.iloc[i[0]].nama_lowongan\n",
    "        nilai_kesamaan = i[1]\n",
    "        rekomendasi_df = pd.concat([rekomendasi_df, pd.DataFrame({'Nama Lowongan': [nama_lowongan],\n",
    "                                                                  'Nilai Kesamaan': [nilai_kesamaan]})],\n",
    "                                                                   ignore_index=True)\n",
    "    \n",
    "    return rekomendasi_df"
   ]
  },
  {
   "cell_type": "code",
   "execution_count": 56,
   "id": "346e4982",
   "metadata": {},
   "outputs": [
    {
     "data": {
      "text/plain": [
       "'Program Development: Pendampingan Anak Terdampak TBC Yayasan Bakrie Center'"
      ]
     },
     "execution_count": 56,
     "metadata": {},
     "output_type": "execute_result"
    }
   ],
   "source": [
    "df_baru['nama_lowongan'][260]"
   ]
  },
  {
   "cell_type": "code",
   "execution_count": 57,
   "id": "89f3aca8",
   "metadata": {},
   "outputs": [
    {
     "data": {
      "text/plain": [
       "'program development damping anak dampak tbc provinsi lampung - project cepat eliminasi tbc belum tahun 2030 bas komunitas di provinsi lampung sama inisiatif lampung sehat kota bandar lampung jurus dokter dokter anak sehat masyarakat psikolog psikologi anak awat jenjang d4 s1 semester minimal semester 4  6 kriteria hard skills 1 paham medis tentang tb anak2 manajemen kasus tb anak3 epidemiologi tb4 guna alat medis5 tahu tentang obat tb6 pantau kesehatan7 suluh kesehatan8 manajemen informasi medis9 bijak kesehatan10 mampu pecah masalah11 mampu ambil keputusan12 audit dan evaluasi13 mampu teknologi kesehatan14 kembang program15 pimpin dan manajemen timkriteria soft skills 1 mampu komunikasi2 mampu berempati3 mampu kolaborasi4 mampu konseling5 mampu adaptasi6 mampu manajemen stres7 mampu pemberdayaan8 mampu interaksi dengan anak-anak9 mampu manajemen waktu10 mampu kepemimpinan11 mampu networking12 mampu menginspirasi13 mampu selesai konflikkriteria lain 1 dapat pasti tidak ada kendala dalam urus surat rekomendasi dan sptjm mahasiswa dari asal guru tinggi masing-masing2 dapat pasti bahwa silabus kpi giat magang dapat konversi dengan mata kuliah yang ambil mahasiswa bisa konsultasi dengan dosen program studi fakultas maupun pihak universitas lebih dahulu seluruh mahasiswa daftar wajib kerja misi calon tb ranger ikut s id misicalontbrangerclp9 dan memfollow semua akun media sosial bakrie center foundation serta mitra bcf ikut linktr ee campusleadersprogrambcf karena kisi wawancara fgd akan ada pada akun media sosial sebut akan ada banyak sempat untuk pemuda yang ingin aktif libat di bagai giat sdgs bcf lain'"
      ]
     },
     "execution_count": 57,
     "metadata": {},
     "output_type": "execute_result"
    }
   ],
   "source": [
    "df_baru['tags'][260]"
   ]
  },
  {
   "cell_type": "code",
   "execution_count": 58,
   "id": "6cbf69cb",
   "metadata": {},
   "outputs": [
    {
     "data": {
      "application/javascript": [
       "\n",
       "        if (window._pyforest_update_imports_cell) { window._pyforest_update_imports_cell('import pandas as pd\\nfrom sklearn.feature_extraction.text import CountVectorizer'); }\n",
       "    "
      ],
      "text/plain": [
       "<IPython.core.display.Javascript object>"
      ]
     },
     "metadata": {},
     "output_type": "display_data"
    },
    {
     "data": {
      "application/javascript": [
       "\n",
       "        if (window._pyforest_update_imports_cell) { window._pyforest_update_imports_cell('import pandas as pd\\nfrom sklearn.feature_extraction.text import CountVectorizer'); }\n",
       "    "
      ],
      "text/plain": [
       "<IPython.core.display.Javascript object>"
      ]
     },
     "metadata": {},
     "output_type": "display_data"
    },
    {
     "data": {
      "application/javascript": [
       "\n",
       "        if (window._pyforest_update_imports_cell) { window._pyforest_update_imports_cell('import pandas as pd\\nfrom sklearn.feature_extraction.text import CountVectorizer'); }\n",
       "    "
      ],
      "text/plain": [
       "<IPython.core.display.Javascript object>"
      ]
     },
     "metadata": {},
     "output_type": "display_data"
    },
    {
     "data": {
      "application/javascript": [
       "\n",
       "        if (window._pyforest_update_imports_cell) { window._pyforest_update_imports_cell('import pandas as pd\\nfrom sklearn.feature_extraction.text import CountVectorizer'); }\n",
       "    "
      ],
      "text/plain": [
       "<IPython.core.display.Javascript object>"
      ]
     },
     "metadata": {},
     "output_type": "display_data"
    },
    {
     "data": {
      "application/javascript": [
       "\n",
       "        if (window._pyforest_update_imports_cell) { window._pyforest_update_imports_cell('import pandas as pd\\nfrom sklearn.feature_extraction.text import CountVectorizer'); }\n",
       "    "
      ],
      "text/plain": [
       "<IPython.core.display.Javascript object>"
      ]
     },
     "metadata": {},
     "output_type": "display_data"
    },
    {
     "data": {
      "application/javascript": [
       "\n",
       "        if (window._pyforest_update_imports_cell) { window._pyforest_update_imports_cell('import pandas as pd\\nfrom sklearn.feature_extraction.text import CountVectorizer'); }\n",
       "    "
      ],
      "text/plain": [
       "<IPython.core.display.Javascript object>"
      ]
     },
     "metadata": {},
     "output_type": "display_data"
    },
    {
     "data": {
      "application/javascript": [
       "\n",
       "        if (window._pyforest_update_imports_cell) { window._pyforest_update_imports_cell('import pandas as pd\\nfrom sklearn.feature_extraction.text import CountVectorizer'); }\n",
       "    "
      ],
      "text/plain": [
       "<IPython.core.display.Javascript object>"
      ]
     },
     "metadata": {},
     "output_type": "display_data"
    },
    {
     "data": {
      "application/javascript": [
       "\n",
       "        if (window._pyforest_update_imports_cell) { window._pyforest_update_imports_cell('import pandas as pd\\nfrom sklearn.feature_extraction.text import CountVectorizer'); }\n",
       "    "
      ],
      "text/plain": [
       "<IPython.core.display.Javascript object>"
      ]
     },
     "metadata": {},
     "output_type": "display_data"
    },
    {
     "data": {
      "application/javascript": [
       "\n",
       "        if (window._pyforest_update_imports_cell) { window._pyforest_update_imports_cell('import pandas as pd\\nfrom sklearn.feature_extraction.text import CountVectorizer'); }\n",
       "    "
      ],
      "text/plain": [
       "<IPython.core.display.Javascript object>"
      ]
     },
     "metadata": {},
     "output_type": "display_data"
    },
    {
     "data": {
      "application/javascript": [
       "\n",
       "        if (window._pyforest_update_imports_cell) { window._pyforest_update_imports_cell('import pandas as pd\\nfrom sklearn.feature_extraction.text import CountVectorizer'); }\n",
       "    "
      ],
      "text/plain": [
       "<IPython.core.display.Javascript object>"
      ]
     },
     "metadata": {},
     "output_type": "display_data"
    },
    {
     "data": {
      "application/javascript": [
       "\n",
       "        if (window._pyforest_update_imports_cell) { window._pyforest_update_imports_cell('import pandas as pd\\nfrom sklearn.feature_extraction.text import CountVectorizer'); }\n",
       "    "
      ],
      "text/plain": [
       "<IPython.core.display.Javascript object>"
      ]
     },
     "metadata": {},
     "output_type": "display_data"
    },
    {
     "data": {
      "application/javascript": [
       "\n",
       "        if (window._pyforest_update_imports_cell) { window._pyforest_update_imports_cell('import pandas as pd\\nfrom sklearn.feature_extraction.text import CountVectorizer'); }\n",
       "    "
      ],
      "text/plain": [
       "<IPython.core.display.Javascript object>"
      ]
     },
     "metadata": {},
     "output_type": "display_data"
    },
    {
     "data": {
      "application/javascript": [
       "\n",
       "        if (window._pyforest_update_imports_cell) { window._pyforest_update_imports_cell('import pandas as pd\\nfrom sklearn.feature_extraction.text import CountVectorizer'); }\n",
       "    "
      ],
      "text/plain": [
       "<IPython.core.display.Javascript object>"
      ]
     },
     "metadata": {},
     "output_type": "display_data"
    },
    {
     "data": {
      "text/html": [
       "<div>\n",
       "<style scoped>\n",
       "    .dataframe tbody tr th:only-of-type {\n",
       "        vertical-align: middle;\n",
       "    }\n",
       "\n",
       "    .dataframe tbody tr th {\n",
       "        vertical-align: top;\n",
       "    }\n",
       "\n",
       "    .dataframe thead th {\n",
       "        text-align: right;\n",
       "    }\n",
       "</style>\n",
       "<table border=\"1\" class=\"dataframe\">\n",
       "  <thead>\n",
       "    <tr style=\"text-align: right;\">\n",
       "      <th></th>\n",
       "      <th>Nama Lowongan</th>\n",
       "      <th>Nilai Kesamaan</th>\n",
       "    </tr>\n",
       "  </thead>\n",
       "  <tbody>\n",
       "    <tr>\n",
       "      <th>0</th>\n",
       "      <td>Program Development: TBC at Workplace Yayasan ...</td>\n",
       "      <td>0.856331</td>\n",
       "    </tr>\n",
       "    <tr>\n",
       "      <th>1</th>\n",
       "      <td>Program Development: Divisi Pemberdayaan Ekono...</td>\n",
       "      <td>0.803452</td>\n",
       "    </tr>\n",
       "    <tr>\n",
       "      <th>2</th>\n",
       "      <td>Media &amp; Strategic Communications Yayasan Bakri...</td>\n",
       "      <td>0.686308</td>\n",
       "    </tr>\n",
       "    <tr>\n",
       "      <th>3</th>\n",
       "      <td>Research &amp; Advocation Yayasan Bakrie Center</td>\n",
       "      <td>0.677035</td>\n",
       "    </tr>\n",
       "    <tr>\n",
       "      <th>4</th>\n",
       "      <td>Program Development: Pendampingan Pasien TBC R...</td>\n",
       "      <td>0.669256</td>\n",
       "    </tr>\n",
       "    <tr>\n",
       "      <th>5</th>\n",
       "      <td>Program Development: Leadership and Sustainabi...</td>\n",
       "      <td>0.663156</td>\n",
       "    </tr>\n",
       "  </tbody>\n",
       "</table>\n",
       "</div>"
      ],
      "text/plain": [
       "                                       Nama Lowongan  Nilai Kesamaan\n",
       "0  Program Development: TBC at Workplace Yayasan ...        0.856331\n",
       "1  Program Development: Divisi Pemberdayaan Ekono...        0.803452\n",
       "2  Media & Strategic Communications Yayasan Bakri...        0.686308\n",
       "3        Research & Advocation Yayasan Bakrie Center        0.677035\n",
       "4  Program Development: Pendampingan Pasien TBC R...        0.669256\n",
       "5  Program Development: Leadership and Sustainabi...        0.663156"
      ]
     },
     "execution_count": 58,
     "metadata": {},
     "output_type": "execute_result"
    }
   ],
   "source": [
    "rekomendasi_magang('Program Development: Pendampingan Anak Terdampak TBC Yayasan Bakrie Center')"
   ]
  },
  {
   "cell_type": "code",
   "execution_count": 98,
   "id": "8e6bf542",
   "metadata": {},
   "outputs": [
    {
     "data": {
      "text/plain": [
       "'Full-stack Developer Dinas Lingkungan Hidup dan Kehutanan Daerah Istimewa Yogyakarta'"
      ]
     },
     "execution_count": 98,
     "metadata": {},
     "output_type": "execute_result"
    }
   ],
   "source": [
    "df_baru['nama_lowongan'][0]"
   ]
  },
  {
   "cell_type": "code",
   "execution_count": 99,
   "id": "e0cf9ac0",
   "metadata": {},
   "outputs": [
    {
     "data": {
      "text/plain": [
       "'full-stack developer information technology systems kota yogyakarta jurus teknologi informasi atau jurus lain yang setarajenjang s1semester minimal semester 6kriteria hard skills - kuasa dasar pemrograman webkriteria soft skills -komunikasi-bekerja dalam tim-memiliki inisiatif tinggi'"
      ]
     },
     "execution_count": 99,
     "metadata": {},
     "output_type": "execute_result"
    }
   ],
   "source": [
    "df_baru['tags'][0]"
   ]
  },
  {
   "cell_type": "code",
   "execution_count": 100,
   "id": "e12e4609",
   "metadata": {},
   "outputs": [
    {
     "data": {
      "application/javascript": [
       "\n",
       "        if (window._pyforest_update_imports_cell) { window._pyforest_update_imports_cell('import pandas as pd\\nfrom sklearn.feature_extraction.text import CountVectorizer'); }\n",
       "    "
      ],
      "text/plain": [
       "<IPython.core.display.Javascript object>"
      ]
     },
     "metadata": {},
     "output_type": "display_data"
    },
    {
     "data": {
      "application/javascript": [
       "\n",
       "        if (window._pyforest_update_imports_cell) { window._pyforest_update_imports_cell('import pandas as pd\\nfrom sklearn.feature_extraction.text import CountVectorizer'); }\n",
       "    "
      ],
      "text/plain": [
       "<IPython.core.display.Javascript object>"
      ]
     },
     "metadata": {},
     "output_type": "display_data"
    },
    {
     "data": {
      "application/javascript": [
       "\n",
       "        if (window._pyforest_update_imports_cell) { window._pyforest_update_imports_cell('import pandas as pd\\nfrom sklearn.feature_extraction.text import CountVectorizer'); }\n",
       "    "
      ],
      "text/plain": [
       "<IPython.core.display.Javascript object>"
      ]
     },
     "metadata": {},
     "output_type": "display_data"
    },
    {
     "data": {
      "application/javascript": [
       "\n",
       "        if (window._pyforest_update_imports_cell) { window._pyforest_update_imports_cell('import pandas as pd\\nfrom sklearn.feature_extraction.text import CountVectorizer'); }\n",
       "    "
      ],
      "text/plain": [
       "<IPython.core.display.Javascript object>"
      ]
     },
     "metadata": {},
     "output_type": "display_data"
    },
    {
     "data": {
      "application/javascript": [
       "\n",
       "        if (window._pyforest_update_imports_cell) { window._pyforest_update_imports_cell('import pandas as pd\\nfrom sklearn.feature_extraction.text import CountVectorizer'); }\n",
       "    "
      ],
      "text/plain": [
       "<IPython.core.display.Javascript object>"
      ]
     },
     "metadata": {},
     "output_type": "display_data"
    },
    {
     "data": {
      "application/javascript": [
       "\n",
       "        if (window._pyforest_update_imports_cell) { window._pyforest_update_imports_cell('import pandas as pd\\nfrom sklearn.feature_extraction.text import CountVectorizer'); }\n",
       "    "
      ],
      "text/plain": [
       "<IPython.core.display.Javascript object>"
      ]
     },
     "metadata": {},
     "output_type": "display_data"
    },
    {
     "data": {
      "application/javascript": [
       "\n",
       "        if (window._pyforest_update_imports_cell) { window._pyforest_update_imports_cell('import pandas as pd\\nfrom sklearn.feature_extraction.text import CountVectorizer'); }\n",
       "    "
      ],
      "text/plain": [
       "<IPython.core.display.Javascript object>"
      ]
     },
     "metadata": {},
     "output_type": "display_data"
    },
    {
     "data": {
      "application/javascript": [
       "\n",
       "        if (window._pyforest_update_imports_cell) { window._pyforest_update_imports_cell('import pandas as pd\\nfrom sklearn.feature_extraction.text import CountVectorizer'); }\n",
       "    "
      ],
      "text/plain": [
       "<IPython.core.display.Javascript object>"
      ]
     },
     "metadata": {},
     "output_type": "display_data"
    },
    {
     "data": {
      "application/javascript": [
       "\n",
       "        if (window._pyforest_update_imports_cell) { window._pyforest_update_imports_cell('import pandas as pd\\nfrom sklearn.feature_extraction.text import CountVectorizer'); }\n",
       "    "
      ],
      "text/plain": [
       "<IPython.core.display.Javascript object>"
      ]
     },
     "metadata": {},
     "output_type": "display_data"
    },
    {
     "data": {
      "application/javascript": [
       "\n",
       "        if (window._pyforest_update_imports_cell) { window._pyforest_update_imports_cell('import pandas as pd\\nfrom sklearn.feature_extraction.text import CountVectorizer'); }\n",
       "    "
      ],
      "text/plain": [
       "<IPython.core.display.Javascript object>"
      ]
     },
     "metadata": {},
     "output_type": "display_data"
    },
    {
     "data": {
      "application/javascript": [
       "\n",
       "        if (window._pyforest_update_imports_cell) { window._pyforest_update_imports_cell('import pandas as pd\\nfrom sklearn.feature_extraction.text import CountVectorizer'); }\n",
       "    "
      ],
      "text/plain": [
       "<IPython.core.display.Javascript object>"
      ]
     },
     "metadata": {},
     "output_type": "display_data"
    },
    {
     "data": {
      "application/javascript": [
       "\n",
       "        if (window._pyforest_update_imports_cell) { window._pyforest_update_imports_cell('import pandas as pd\\nfrom sklearn.feature_extraction.text import CountVectorizer'); }\n",
       "    "
      ],
      "text/plain": [
       "<IPython.core.display.Javascript object>"
      ]
     },
     "metadata": {},
     "output_type": "display_data"
    },
    {
     "data": {
      "application/javascript": [
       "\n",
       "        if (window._pyforest_update_imports_cell) { window._pyforest_update_imports_cell('import pandas as pd\\nfrom sklearn.feature_extraction.text import CountVectorizer'); }\n",
       "    "
      ],
      "text/plain": [
       "<IPython.core.display.Javascript object>"
      ]
     },
     "metadata": {},
     "output_type": "display_data"
    },
    {
     "data": {
      "text/html": [
       "<div>\n",
       "<style scoped>\n",
       "    .dataframe tbody tr th:only-of-type {\n",
       "        vertical-align: middle;\n",
       "    }\n",
       "\n",
       "    .dataframe tbody tr th {\n",
       "        vertical-align: top;\n",
       "    }\n",
       "\n",
       "    .dataframe thead th {\n",
       "        text-align: right;\n",
       "    }\n",
       "</style>\n",
       "<table border=\"1\" class=\"dataframe\">\n",
       "  <thead>\n",
       "    <tr style=\"text-align: right;\">\n",
       "      <th></th>\n",
       "      <th>Nama Lowongan</th>\n",
       "      <th>Nilai Kesamaan</th>\n",
       "    </tr>\n",
       "  </thead>\n",
       "  <tbody>\n",
       "    <tr>\n",
       "      <th>0</th>\n",
       "      <td>IT Developer PT Mega Manunggal Property Tbk</td>\n",
       "      <td>0.667593</td>\n",
       "    </tr>\n",
       "    <tr>\n",
       "      <th>1</th>\n",
       "      <td>Marketing  Executive PT Mitra Global Holiday</td>\n",
       "      <td>0.581238</td>\n",
       "    </tr>\n",
       "    <tr>\n",
       "      <th>2</th>\n",
       "      <td>Human Resources Staff PT Mitra Global Holiday</td>\n",
       "      <td>0.579148</td>\n",
       "    </tr>\n",
       "    <tr>\n",
       "      <th>3</th>\n",
       "      <td>Finance Staff PT Mitra Global Holiday</td>\n",
       "      <td>0.571863</td>\n",
       "    </tr>\n",
       "    <tr>\n",
       "      <th>4</th>\n",
       "      <td>Business Developer PT Coca-Cola Distribution I...</td>\n",
       "      <td>0.531485</td>\n",
       "    </tr>\n",
       "    <tr>\n",
       "      <th>5</th>\n",
       "      <td>Project Analyst &amp; Support PT Coca-Cola Distrib...</td>\n",
       "      <td>0.513514</td>\n",
       "    </tr>\n",
       "  </tbody>\n",
       "</table>\n",
       "</div>"
      ],
      "text/plain": [
       "                                       Nama Lowongan  Nilai Kesamaan\n",
       "0        IT Developer PT Mega Manunggal Property Tbk        0.667593\n",
       "1       Marketing  Executive PT Mitra Global Holiday        0.581238\n",
       "2      Human Resources Staff PT Mitra Global Holiday        0.579148\n",
       "3              Finance Staff PT Mitra Global Holiday        0.571863\n",
       "4  Business Developer PT Coca-Cola Distribution I...        0.531485\n",
       "5  Project Analyst & Support PT Coca-Cola Distrib...        0.513514"
      ]
     },
     "execution_count": 100,
     "metadata": {},
     "output_type": "execute_result"
    }
   ],
   "source": [
    "rekomendasi_magang('Full-stack Developer Dinas Lingkungan Hidup dan Kehutanan Daerah Istimewa Yogyakarta')"
   ]
  },
  {
   "cell_type": "code",
   "execution_count": 102,
   "id": "bf6dc00b",
   "metadata": {},
   "outputs": [
    {
     "data": {
      "text/plain": [
       "nama_lowongan    0\n",
       "tags             0\n",
       "dtype: int64"
      ]
     },
     "execution_count": 102,
     "metadata": {},
     "output_type": "execute_result"
    }
   ],
   "source": [
    "df_baru.isnull().sum()"
   ]
  },
  {
   "cell_type": "markdown",
   "id": "85ee20a3",
   "metadata": {},
   "source": [
    "#### Perbandingan\n",
    "Hampir seluruhnya rekomendasi lowongan magang yang ditampilkan pada msib kampus merdeka adalah lowongan magang dari mitra itu sendiri. Sehingga agak sulit untuk mencari lowongan magang yang mirip dengan yang kita pilih."
   ]
  },
  {
   "cell_type": "markdown",
   "id": "6ab830f7",
   "metadata": {},
   "source": [
    "## Kesimpulan 2\n",
    "\n",
    "Sistem rekomendasi dengan menerapkan Content Based Filtering percobaan ke-2 kali ini memiliki performa yang sedikit lebih baik jika dibandingkan dengan percobaan pertama sebelunnya yang menggunakan data `deskripsi` dan `detail_deskripsi`. Hal ini mungkin dikarenakan aku hanya menggunakan variabel-variabel yang membahas mengenai posisi lowongan magang.\n",
    "\n",
    "Namun demikian, perlu diingat bahwa kesuksesan suatu sistem rekomendasi tidak hanya ditentukan oleh kemiripan, tetapi juga oleh berbagai faktor lainnya seperti kebutuhan dan preferensi pengguna yang dapat berubah dari waktu ke waktu. Oleh karena itu, perlu adanya upaya terus-menerus dalam pengembangan dan peningkatan sistem rekomendasi ini agar dapat tetap relevan dan efektif dalam menghadapi dinamika pasar dan kebutuhan pelanggan.\n",
    "\n",
    "#### Solusi yang bisa dilakukan:\n",
    "- Deep dive understanding terhadap pola dari data `deskripsi` dan `detail_deskripsi`. Lalu memperbaiki data pada fitur `tags`.\n",
    "- Menggunakan teknik Vectorizer lainnya\n",
    "- Survey secara langsung untuk mengambil data mengenai posisi-posisi magang yang disukai oleh user lain. Sehingga nantinya bisa menerapkan metode atau teknik **Collaborative Filtering** yang akan lebih cocok dibandingkan CBF."
   ]
  },
  {
   "cell_type": "markdown",
   "id": "564727a6",
   "metadata": {},
   "source": [
    "### Deploy Model"
   ]
  },
  {
   "cell_type": "code",
   "execution_count": 103,
   "id": "316e8d08",
   "metadata": {},
   "outputs": [],
   "source": [
    "import joblib\n",
    "import pickle\n",
    "import numpy as np\n",
    "\n",
    "pickle.dump(kesamaan, open('C:/Users/ASUS/kode/Projek/15. msib_Rekomendasi/versi2/kesamaan.pkl', 'wb'))\n",
    "pickle.dump(df_baru, open('C:/Users/ASUS/kode/Projek/15. msib_Rekomendasi/versi2/df_baru.pkl', 'wb'))"
   ]
  }
 ],
 "metadata": {
  "kernelspec": {
   "display_name": "Python 3 (ipykernel)",
   "language": "python",
   "name": "python3"
  },
  "language_info": {
   "codemirror_mode": {
    "name": "ipython",
    "version": 3
   },
   "file_extension": ".py",
   "mimetype": "text/x-python",
   "name": "python",
   "nbconvert_exporter": "python",
   "pygments_lexer": "ipython3",
   "version": "3.11.5"
  }
 },
 "nbformat": 4,
 "nbformat_minor": 5
}
